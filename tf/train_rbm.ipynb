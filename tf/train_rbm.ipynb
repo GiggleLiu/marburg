{
 "cells": [
  {
   "cell_type": "code",
   "execution_count": 28,
   "metadata": {
    "collapsed": true
   },
   "outputs": [],
   "source": [
    "%matplotlib inline"
   ]
  },
  {
   "cell_type": "markdown",
   "metadata": {},
   "source": [
    "# Train an RBM to approximate a quantum state\n",
    "With RBM as a state ansatz, we need to train its parameters in order to make it close to the ground state wave function of a hamiltonian.\n",
    "\n",
    "Notice that the cost function now is energy rather than a known dataset, we use Markov chain Monte Carlo (MCMC) method to extract the energy expectation value and gradient."
   ]
  },
  {
   "cell_type": "code",
   "execution_count": 1,
   "metadata": {
    "collapsed": true
   },
   "outputs": [],
   "source": [
    "from __future__ import division\n",
    "import numpy as np\n",
    "import tensorflow as tf\n",
    "import matplotlib.pyplot as plt\n",
    "\n",
    "from utils import binning_statistics\n",
    "from rbm_tf_cd import load_demo_rbm"
   ]
  },
  {
   "cell_type": "markdown",
   "metadata": {},
   "source": [
    "A model is a problem definiton, it contains state ansatz, hamiltonian, optimizer and computation graphs for wave function and gradient. Training a model using gradients requires expectation values for at least three operators, $H$, $\\frac{\\partial}{\\partial \\Theta}$ and $H\\frac{\\partial}{\\partial \\Theta}$."
   ]
  },
  {
   "cell_type": "code",
   "execution_count": 2,
   "metadata": {
    "collapsed": true
   },
   "outputs": [],
   "source": [
    "def train(model, max_iter=2000):\n",
    "    '''train a model.'''\n",
    "    E_list, E_err_list = [], []\n",
    "    for i in range(max_iter):\n",
    "        E_mean, grad_mean, Egrad_mean, E_err = vmc_measure(\n",
    "            model, initial_config=np.array([0,1]*(model.nsite//2)), num_sample=1000)\n",
    "        print('Step %d, dE = %.4f' % (i, E_mean - model.E_exact))\n",
    "        model.update_vars(E_mean, grad_mean, Egrad_mean)\n",
    "        E_list.append(E_mean)\n",
    "        E_err_list.append(E_err)\n",
    "        plt.cla()\n",
    "        plt.errorbar(np.arange(1,i+2), E_list, yerr=E_err_list)\n",
    "        plt.axhline(model.E_exact, ls='--', color='#999999')\n",
    "        plt.show()\n",
    "    return E_list, E_err_list"
   ]
  },
  {
   "cell_type": "markdown",
   "metadata": {},
   "source": [
    "The above required expectation values can be approximated by emsemble average of following operators over generated samples in VMC run, $\\langle E_{\\rm loc}\\rangle$, $\\langle\\Delta_{\\rm loc}\\rangle$ and $\\langle E_{\\rm loc}\\Delta_{\\rm loc}\\rangle$, with $E_{\\rm loc}=\\frac{\\langle\\psi|H|\\sigma\\rangle}{\\langle\\sigma|\\psi\\rangle}$ and $\\Delta_{\\rm loc}=\\frac{\\partial\\log\\langle\\sigma|\\psi\\rangle}{\\partial \\Theta}$.\n",
    "\n",
    "VMC requires a model with following property\n",
    "* can propose a new configuration, given old configuration.\n",
    "* can give the wave function amplitude on a spin configuration $\\langle\\sigma|\\psi\\rangle$.\n",
    "* given configuration, being able to provide local quantities $E_{\\rm loc}$ and $\\Delta_{\\rm loc}$.\n",
    "\n",
    "As a result, VMC measurements give us desired expectation values and and error estimation for energy."
   ]
  },
  {
   "cell_type": "code",
   "execution_count": 3,
   "metadata": {
    "collapsed": true
   },
   "outputs": [],
   "source": [
    "def vmc_measure(model, initial_config, num_bath=200, num_sample=1000, num_bin=50, measure_step=None):\n",
    "    '''\n",
    "    Measure an operator.\n",
    "\n",
    "    Args:\n",
    "        model (Model): model definition.\n",
    "        num_sample (int): number of samples.\n",
    "\n",
    "    Return:\n",
    "        number,\n",
    "    '''\n",
    "    if measure_step is None:\n",
    "        measure_step = len(initial_config)\n",
    "    print_step = num_sample * measure_step / 5\n",
    "\n",
    "    E_locs, grad_locs = [], []\n",
    "    config = initial_config\n",
    "    wf = model.get_wf(config)\n",
    "\n",
    "    n_accepted = 0\n",
    "    for i in range(num_bath + num_sample * measure_step):\n",
    "        # generate new config and calculate probability ratio\n",
    "        config_proposed = propose_config(config)\n",
    "        wf_proposed = model.get_wf(config_proposed)\n",
    "        prob_ratio = np.abs(wf_proposed / wf).item()**2\n",
    "\n",
    "        # accept/reject move by one-line metropolis algorithm\n",
    "        if np.random.random() < prob_ratio:\n",
    "            config = config_proposed\n",
    "            wf = wf_proposed\n",
    "            n_accepted += 1\n",
    "\n",
    "        # measurements\n",
    "        if i >= num_bath and i % measure_step == 0:\n",
    "            # here, I choose a lazy way that re-compute on this config, in order to get its gradients easily.\n",
    "            E_loc, grad_loc = model.local_measure(config)\n",
    "            E_locs.append(E_loc)\n",
    "            grad_locs.append(grad_loc)\n",
    "\n",
    "        # print status\n",
    "        if i % print_step == print_step - 1:\n",
    "            print('%-10s Accept rate: %.3f' %\n",
    "                  (i + 1, n_accepted * 1. / print_step))\n",
    "            n_accepted = 0\n",
    "\n",
    "    # process samples\n",
    "    E_locs = np.array(E_locs)\n",
    "    E_mean, E_err = binning_statistics(E_locs, num_bin=num_bin)\n",
    "\n",
    "    grad_mean = []\n",
    "    Egrad_mean = []\n",
    "    gradgrad_mean = []\n",
    "    for grad_locs_i in zip(*grad_locs):\n",
    "        grad_locs_i = np.array(grad_locs_i)\n",
    "        grad_mean.append(grad_locs_i.mean(axis=0))\n",
    "        Egrad_mean.append(\n",
    "            (E_locs[(slice(None),) + (None,) * (grad_locs_i.ndim - 1)] * grad_locs_i).mean(axis=0))\n",
    "    return E_mean, grad_mean, Egrad_mean, E_err"
   ]
  },
  {
   "cell_type": "markdown",
   "metadata": {},
   "source": [
    "Model definition."
   ]
  },
  {
   "cell_type": "code",
   "execution_count": 4,
   "metadata": {
    "collapsed": true
   },
   "outputs": [],
   "source": [
    "class Model(object):\n",
    "    def __init__(self, J, rbm, sess, E_exact, learning_rate=0.01, use_cnn=True):\n",
    "        self.J = J\n",
    "        self.sess = sess\n",
    "        self.nsite = rbm.visible_input.get_shape()[1].value\n",
    "        self.rbm = rbm\n",
    "        self.learning_rate = learning_rate\n",
    "        # self.optimizer = tf.train.GradientDescentOptimizer(learning_rate)\n",
    "        self.E_exact = E_exact\n",
    "\n",
    "        # build graphs\n",
    "        if use_cnn:\n",
    "            self.wf_graph = rbm.build_graph('psi-cnn')\n",
    "            self.var_list = [rbm.weights, rbm.hidden_bias]\n",
    "        else:\n",
    "            self.wf_graph = rbm.build_graph('psi')\n",
    "            self.var_list = [rbm.weights, rbm.hidden_bias, rbm.visible_bias]\n",
    "        self.gradients = tf.gradients(\n",
    "            xs=self.var_list, ys=tf.log(self.wf_graph))\n",
    "\n",
    "    def get_wf(self, config):\n",
    "        wf = self.sess.run(self.wf_graph, feed_dict={\n",
    "                           self.rbm.visible_input: config[None, :]})\n",
    "        return wf\n",
    "\n",
    "    def local_measure(self, config):\n",
    "        '''get E_loc, grad_loc.'''\n",
    "        # {d/dW}_{loc}\n",
    "        res = self.sess.run([self.wf_graph] + self.gradients,\n",
    "                            feed_dict={self.rbm.visible_input: config[None, :]})\n",
    "        wf = res[0]\n",
    "        grad_locs = res[1:]\n",
    "\n",
    "        # E_{loc}\n",
    "        E_loc = heisenberg_loc(self.J, config, self.get_wf, wf).item()\n",
    "\n",
    "        return E_loc, grad_locs\n",
    "\n",
    "    def update_vars(self, E_mean, grad_mean, Egrad_mean):\n",
    "        g_list = [eg - E_mean * g for eg,\n",
    "                  g in zip(Egrad_mean, grad_mean)]  # no conjugate here\n",
    "        # assign new values\n",
    "        assign_ops = [var.assign(var - self.learning_rate * g)\n",
    "                      for var, g in zip(self.var_list, g_list)]\n",
    "        #assign_ops = self.optimizer.apply_gradients(zip(g_list, self.var_list))\n",
    "        self.sess.run(assign_ops)"
   ]
  },
  {
   "cell_type": "markdown",
   "metadata": {},
   "source": [
    "Take ~ 5% probability to flip all spin, can making VMC sample better in Heisenberg model, proposed configuration satisfies spin conservation."
   ]
  },
  {
   "cell_type": "code",
   "execution_count": 5,
   "metadata": {
    "collapsed": true
   },
   "outputs": [],
   "source": [
    "def propose_config(old_config, prob_flip=0.05):\n",
    "    '''\n",
    "    flip two positions as suggested spin flips.\n",
    "    '''\n",
    "    if np.random.random() < prob_flip:\n",
    "        return 1-old_config\n",
    "\n",
    "    nsite = len(old_config)\n",
    "    upmask = old_config == 0\n",
    "    flips = np.random.randint(0, nsite // 2, 2)\n",
    "    iflip0 = np.where(upmask)[0][flips[0]]\n",
    "    iflip1 = np.where(~upmask)[0][flips[1]]\n",
    "\n",
    "    config = old_config.copy()\n",
    "    config[iflip0] = 1\n",
    "    config[iflip1] = 0\n",
    "    return config"
   ]
  },
  {
   "cell_type": "markdown",
   "metadata": {},
   "source": [
    "Calculate local energy"
   ]
  },
  {
   "cell_type": "code",
   "execution_count": 6,
   "metadata": {
    "collapsed": true
   },
   "outputs": [],
   "source": [
    "def heisenberg_loc(J, config, wave_func, wf0):\n",
    "    '''\n",
    "    1D Periodic Heisenberg chain local energy.\n",
    "    '''\n",
    "    # get weights and flips after applying hamiltonian \\sum_i w_i|sigma_i> = H|sigma>\n",
    "    nsite = len(config)\n",
    "    wl, flips = [], []\n",
    "    # J*SzSz terms.\n",
    "    nn_par = 1 - 2. * (np.roll(config, -1) ^ config)\n",
    "    wl.append(J / 4. * (nn_par).sum(axis=-1))\n",
    "    flips.append(np.array([], dtype='int64'))\n",
    "\n",
    "    # J*SxSx and J*SySy terms.\n",
    "    mask = nn_par != 1\n",
    "    i = np.where(mask)[0]\n",
    "    j = (i + 1) % nsite\n",
    "    wl += [-J / 2.] * len(i)\n",
    "    flips.extend(zip(i, j))\n",
    "\n",
    "    # calculate local energy <psi|H|sigma>/<psi|sigma>\n",
    "    acc = 0\n",
    "    for wi, flip in zip(wl, flips):\n",
    "        config_i = config.copy()\n",
    "        config_i[list(flip)] = 1 - config_i[list(flip)]\n",
    "        eng_i = wi * wave_func(config_i) / wf0\n",
    "        acc += eng_i\n",
    "    return acc"
   ]
  },
  {
   "cell_type": "markdown",
   "metadata": {},
   "source": [
    "Finally, defined and run a optimization within a tensorflow session."
   ]
  },
  {
   "cell_type": "code",
   "execution_count": 7,
   "metadata": {
    "collapsed": true
   },
   "outputs": [],
   "source": [
    "def run_demo():\n",
    "    tf.set_random_seed(10087)\n",
    "    np.random.seed(10086)\n",
    "    rbm = load_demo_rbm('spin-chain')\n",
    "    gpu_options = tf.GPUOptions(per_process_gpu_memory_fraction=0.333)\n",
    "    with tf.Session(config=tf.ConfigProto(gpu_options=gpu_options)) as sess:\n",
    "        sess.run(tf.global_variables_initializer())\n",
    "        model = Model(J=1.0, rbm=rbm, sess=sess, E_exact=-\n",
    "                      3.65109341, learning_rate=0.01)\n",
    "        E_list, E_err_list = train(model, max_iter=200)\n",
    "    plt.errorbar(arange(1, len(E_list) + 1), E_list, yerr=E_err_list)"
   ]
  },
  {
   "cell_type": "code",
   "execution_count": 8,
   "metadata": {
    "scrolled": false
   },
   "outputs": [
    {
     "name": "stdout",
     "output_type": "stream",
     "text": [
      "1600       Accept rate: 0.949\n",
      "3200       Accept rate: 0.958\n",
      "4800       Accept rate: 0.960\n",
      "6400       Accept rate: 0.951\n",
      "8000       Accept rate: 0.956\n",
      "Binning Statistics: Energy = -2.6651 +- 0.0432, Auto correlation Time = 0.5010\n",
      "Step 0, dE = 0.9860\n"
     ]
    },
    {
     "data": {
      "image/png": "[encoded data removed]",
      "text/plain": [
       "<matplotlib.figure.Figure at 0x154f132349b0>"
      ]
     },
     "metadata": {},
     "output_type": "display_data"
    },
    {
     "name": "stdout",
     "output_type": "stream",
     "text": [
      "1600       Accept rate: 0.958\n",
      "3200       Accept rate: 0.950\n",
      "4800       Accept rate: 0.951\n",
      "6400       Accept rate: 0.946\n",
      "8000       Accept rate: 0.951\n",
      "Binning Statistics: Energy = -2.6228 +- 0.0417, Auto correlation Time = 0.4512\n",
      "Step 1, dE = 1.0283\n"
     ]
    },
    {
     "data": {
      "image/png": "[encoded data removed]",
      "text/plain": [
       "<matplotlib.figure.Figure at 0x154f12b75eb8>"
      ]
     },
     "metadata": {},
     "output_type": "display_data"
    },
    {
     "name": "stdout",
     "output_type": "stream",
     "text": [
      "1600       Accept rate: 0.955\n",
      "3200       Accept rate: 0.939\n",
      "4800       Accept rate: 0.949\n",
      "6400       Accept rate: 0.951\n",
      "8000       Accept rate: 0.954\n",
      "Binning Statistics: Energy = -2.6270 +- 0.0451, Auto correlation Time = 0.5291\n",
      "Step 2, dE = 1.0241\n"
     ]
    },
    {
     "data": {
      "image/png": "[encoded data removed]",
      "text/plain": [
       "<matplotlib.figure.Figure at 0x154f12b00748>"
      ]
     },
     "metadata": {},
     "output_type": "display_data"
    },
    {
     "name": "stdout",
     "output_type": "stream",
     "text": [
      "1600       Accept rate: 0.953\n",
      "3200       Accept rate: 0.954\n",
      "4800       Accept rate: 0.942\n",
      "6400       Accept rate: 0.954\n",
      "8000       Accept rate: 0.963\n",
      "Binning Statistics: Energy = -2.6405 +- 0.0422, Auto correlation Time = 0.4835\n",
      "Step 3, dE = 1.0106\n"
     ]
    },
    {
     "data": {
      "image/png": "[encoded data removed]",
      "text/plain": [
       "<matplotlib.figure.Figure at 0x154f12b3f4e0>"
      ]
     },
     "metadata": {},
     "output_type": "display_data"
    },
    {
     "name": "stdout",
     "output_type": "stream",
     "text": [
      "1600       Accept rate: 0.958\n",
      "3200       Accept rate: 0.958\n",
      "4800       Accept rate: 0.951\n",
      "6400       Accept rate: 0.964\n",
      "8000       Accept rate: 0.953\n",
      "Binning Statistics: Energy = -2.5787 +- 0.0367, Auto correlation Time = 0.3609\n",
      "Step 4, dE = 1.0724\n"
     ]
    },
    {
     "data": {
      "image/png": "[encoded data removed]",
      "text/plain": [
       "<matplotlib.figure.Figure at 0x154f12b42438>"
      ]
     },
     "metadata": {},
     "output_type": "display_data"
    },
    {
     "name": "stdout",
     "output_type": "stream",
     "text": [
      "1600       Accept rate: 0.950\n",
      "3200       Accept rate: 0.948\n",
      "4800       Accept rate: 0.953\n"
     ]
    },
    {
     "ename": "KeyboardInterrupt",
     "evalue": "",
     "output_type": "error",
     "traceback": [
      "\u001b[0;31m---------------------------------------------------------------------------\u001b[0m",
      "\u001b[0;31mKeyboardInterrupt\u001b[0m                         Traceback (most recent call last)",
      "\u001b[0;32m<ipython-input-8-31845d082ff2>\u001b[0m in \u001b[0;36m<module>\u001b[0;34m()\u001b[0m\n\u001b[0;32m----> 1\u001b[0;31m \u001b[0mrun_demo\u001b[0m\u001b[0;34m(\u001b[0m\u001b[0;34m)\u001b[0m\u001b[0;34m\u001b[0m\u001b[0m\n\u001b[0m",
      "\u001b[0;32m<ipython-input-7-99eb2dfc6b31>\u001b[0m in \u001b[0;36mrun_demo\u001b[0;34m()\u001b[0m\n\u001b[1;32m      8\u001b[0m         model = Model(J=1.0, rbm=rbm, sess=sess, E_exact=-\n\u001b[1;32m      9\u001b[0m                       3.65109341, learning_rate=0.01)\n\u001b[0;32m---> 10\u001b[0;31m         \u001b[0mE_list\u001b[0m\u001b[0;34m,\u001b[0m \u001b[0mE_err_list\u001b[0m \u001b[0;34m=\u001b[0m \u001b[0mtrain\u001b[0m\u001b[0;34m(\u001b[0m\u001b[0mmodel\u001b[0m\u001b[0;34m,\u001b[0m \u001b[0mmax_iter\u001b[0m\u001b[0;34m=\u001b[0m\u001b[0;36m200\u001b[0m\u001b[0;34m)\u001b[0m\u001b[0;34m\u001b[0m\u001b[0m\n\u001b[0m\u001b[1;32m     11\u001b[0m     \u001b[0mplt\u001b[0m\u001b[0;34m.\u001b[0m\u001b[0merrorbar\u001b[0m\u001b[0;34m(\u001b[0m\u001b[0marange\u001b[0m\u001b[0;34m(\u001b[0m\u001b[0;36m1\u001b[0m\u001b[0;34m,\u001b[0m \u001b[0mlen\u001b[0m\u001b[0;34m(\u001b[0m\u001b[0mE_list\u001b[0m\u001b[0;34m)\u001b[0m \u001b[0;34m+\u001b[0m \u001b[0;36m1\u001b[0m\u001b[0;34m)\u001b[0m\u001b[0;34m,\u001b[0m \u001b[0mE_list\u001b[0m\u001b[0;34m,\u001b[0m \u001b[0myerr\u001b[0m\u001b[0;34m=\u001b[0m\u001b[0mE_err_list\u001b[0m\u001b[0;34m)\u001b[0m\u001b[0;34m\u001b[0m\u001b[0m\n",
      "\u001b[0;32m<ipython-input-2-ca7a39eb4db4>\u001b[0m in \u001b[0;36mtrain\u001b[0;34m(model, max_iter)\u001b[0m\n\u001b[1;32m      4\u001b[0m     \u001b[0;32mfor\u001b[0m \u001b[0mi\u001b[0m \u001b[0;32min\u001b[0m \u001b[0mrange\u001b[0m\u001b[0;34m(\u001b[0m\u001b[0mmax_iter\u001b[0m\u001b[0;34m)\u001b[0m\u001b[0;34m:\u001b[0m\u001b[0;34m\u001b[0m\u001b[0m\n\u001b[1;32m      5\u001b[0m         E_mean, grad_mean, Egrad_mean, E_err = vmc_measure(\n\u001b[0;32m----> 6\u001b[0;31m             model, initial_config=np.array([0,1]*(model.nsite//2)), num_sample=1000)\n\u001b[0m\u001b[1;32m      7\u001b[0m         \u001b[0mprint\u001b[0m\u001b[0;34m(\u001b[0m\u001b[0;34m'Step %d, dE = %.4f'\u001b[0m \u001b[0;34m%\u001b[0m \u001b[0;34m(\u001b[0m\u001b[0mi\u001b[0m\u001b[0;34m,\u001b[0m \u001b[0mE_mean\u001b[0m \u001b[0;34m-\u001b[0m \u001b[0mmodel\u001b[0m\u001b[0;34m.\u001b[0m\u001b[0mE_exact\u001b[0m\u001b[0;34m)\u001b[0m\u001b[0;34m)\u001b[0m\u001b[0;34m\u001b[0m\u001b[0m\n\u001b[1;32m      8\u001b[0m         \u001b[0mmodel\u001b[0m\u001b[0;34m.\u001b[0m\u001b[0mupdate_vars\u001b[0m\u001b[0;34m(\u001b[0m\u001b[0mE_mean\u001b[0m\u001b[0;34m,\u001b[0m \u001b[0mgrad_mean\u001b[0m\u001b[0;34m,\u001b[0m \u001b[0mEgrad_mean\u001b[0m\u001b[0;34m)\u001b[0m\u001b[0;34m\u001b[0m\u001b[0m\n",
      "\u001b[0;32m<ipython-input-3-a72f5d6fb6cc>\u001b[0m in \u001b[0;36mvmc_measure\u001b[0;34m(model, initial_config, num_bath, num_sample, num_bin, measure_step)\u001b[0m\n\u001b[1;32m     22\u001b[0m         \u001b[0;31m# generate new config and calculate probability ratio\u001b[0m\u001b[0;34m\u001b[0m\u001b[0;34m\u001b[0m\u001b[0m\n\u001b[1;32m     23\u001b[0m         \u001b[0mconfig_proposed\u001b[0m \u001b[0;34m=\u001b[0m \u001b[0mpropose_config\u001b[0m\u001b[0;34m(\u001b[0m\u001b[0mconfig\u001b[0m\u001b[0;34m)\u001b[0m\u001b[0;34m\u001b[0m\u001b[0m\n\u001b[0;32m---> 24\u001b[0;31m         \u001b[0mwf_proposed\u001b[0m \u001b[0;34m=\u001b[0m \u001b[0mmodel\u001b[0m\u001b[0;34m.\u001b[0m\u001b[0mget_wf\u001b[0m\u001b[0;34m(\u001b[0m\u001b[0mconfig_proposed\u001b[0m\u001b[0;34m)\u001b[0m\u001b[0;34m\u001b[0m\u001b[0m\n\u001b[0m\u001b[1;32m     25\u001b[0m         \u001b[0mprob_ratio\u001b[0m \u001b[0;34m=\u001b[0m \u001b[0mnp\u001b[0m\u001b[0;34m.\u001b[0m\u001b[0mabs\u001b[0m\u001b[0;34m(\u001b[0m\u001b[0mwf_proposed\u001b[0m \u001b[0;34m/\u001b[0m \u001b[0mwf\u001b[0m\u001b[0;34m)\u001b[0m\u001b[0;34m.\u001b[0m\u001b[0mitem\u001b[0m\u001b[0;34m(\u001b[0m\u001b[0;34m)\u001b[0m\u001b[0;34m**\u001b[0m\u001b[0;36m2\u001b[0m\u001b[0;34m\u001b[0m\u001b[0m\n\u001b[1;32m     26\u001b[0m \u001b[0;34m\u001b[0m\u001b[0m\n",
      "\u001b[0;32m<ipython-input-4-636fefcae270>\u001b[0m in \u001b[0;36mget_wf\u001b[0;34m(self, config)\u001b[0m\n\u001b[1;32m     21\u001b[0m     \u001b[0;32mdef\u001b[0m \u001b[0mget_wf\u001b[0m\u001b[0;34m(\u001b[0m\u001b[0mself\u001b[0m\u001b[0;34m,\u001b[0m \u001b[0mconfig\u001b[0m\u001b[0;34m)\u001b[0m\u001b[0;34m:\u001b[0m\u001b[0;34m\u001b[0m\u001b[0m\n\u001b[1;32m     22\u001b[0m         wf = self.sess.run(self.wf_graph, feed_dict={\n\u001b[0;32m---> 23\u001b[0;31m                            self.rbm.visible_input: config[None, :]})\n\u001b[0m\u001b[1;32m     24\u001b[0m         \u001b[0;32mreturn\u001b[0m \u001b[0mwf\u001b[0m\u001b[0;34m\u001b[0m\u001b[0m\n\u001b[1;32m     25\u001b[0m \u001b[0;34m\u001b[0m\u001b[0m\n",
      "\u001b[0;32m/home/leo/anaconda3/lib/python3.6/site-packages/tensorflow/python/client/session.py\u001b[0m in \u001b[0;36mrun\u001b[0;34m(self, fetches, feed_dict, options, run_metadata)\u001b[0m\n\u001b[1;32m    893\u001b[0m     \u001b[0;32mtry\u001b[0m\u001b[0;34m:\u001b[0m\u001b[0;34m\u001b[0m\u001b[0m\n\u001b[1;32m    894\u001b[0m       result = self._run(None, fetches, feed_dict, options_ptr,\n\u001b[0;32m--> 895\u001b[0;31m                          run_metadata_ptr)\n\u001b[0m\u001b[1;32m    896\u001b[0m       \u001b[0;32mif\u001b[0m \u001b[0mrun_metadata\u001b[0m\u001b[0;34m:\u001b[0m\u001b[0;34m\u001b[0m\u001b[0m\n\u001b[1;32m    897\u001b[0m         \u001b[0mproto_data\u001b[0m \u001b[0;34m=\u001b[0m \u001b[0mtf_session\u001b[0m\u001b[0;34m.\u001b[0m\u001b[0mTF_GetBuffer\u001b[0m\u001b[0;34m(\u001b[0m\u001b[0mrun_metadata_ptr\u001b[0m\u001b[0;34m)\u001b[0m\u001b[0;34m\u001b[0m\u001b[0m\n",
      "\u001b[0;32m/home/leo/anaconda3/lib/python3.6/site-packages/tensorflow/python/client/session.py\u001b[0m in \u001b[0;36m_run\u001b[0;34m(self, handle, fetches, feed_dict, options, run_metadata)\u001b[0m\n\u001b[1;32m   1122\u001b[0m     \u001b[0;32mif\u001b[0m \u001b[0mfinal_fetches\u001b[0m \u001b[0;32mor\u001b[0m \u001b[0mfinal_targets\u001b[0m \u001b[0;32mor\u001b[0m \u001b[0;34m(\u001b[0m\u001b[0mhandle\u001b[0m \u001b[0;32mand\u001b[0m \u001b[0mfeed_dict_tensor\u001b[0m\u001b[0;34m)\u001b[0m\u001b[0;34m:\u001b[0m\u001b[0;34m\u001b[0m\u001b[0m\n\u001b[1;32m   1123\u001b[0m       results = self._do_run(handle, final_targets, final_fetches,\n\u001b[0;32m-> 1124\u001b[0;31m                              feed_dict_tensor, options, run_metadata)\n\u001b[0m\u001b[1;32m   1125\u001b[0m     \u001b[0;32melse\u001b[0m\u001b[0;34m:\u001b[0m\u001b[0;34m\u001b[0m\u001b[0m\n\u001b[1;32m   1126\u001b[0m       \u001b[0mresults\u001b[0m \u001b[0;34m=\u001b[0m \u001b[0;34m[\u001b[0m\u001b[0;34m]\u001b[0m\u001b[0;34m\u001b[0m\u001b[0m\n",
      "\u001b[0;32m/home/leo/anaconda3/lib/python3.6/site-packages/tensorflow/python/client/session.py\u001b[0m in \u001b[0;36m_do_run\u001b[0;34m(self, handle, target_list, fetch_list, feed_dict, options, run_metadata)\u001b[0m\n\u001b[1;32m   1319\u001b[0m     \u001b[0;32mif\u001b[0m \u001b[0mhandle\u001b[0m \u001b[0;32mis\u001b[0m \u001b[0;32mNone\u001b[0m\u001b[0;34m:\u001b[0m\u001b[0;34m\u001b[0m\u001b[0m\n\u001b[1;32m   1320\u001b[0m       return self._do_call(_run_fn, self._session, feeds, fetches, targets,\n\u001b[0;32m-> 1321\u001b[0;31m                            options, run_metadata)\n\u001b[0m\u001b[1;32m   1322\u001b[0m     \u001b[0;32melse\u001b[0m\u001b[0;34m:\u001b[0m\u001b[0;34m\u001b[0m\u001b[0m\n\u001b[1;32m   1323\u001b[0m       \u001b[0;32mreturn\u001b[0m \u001b[0mself\u001b[0m\u001b[0;34m.\u001b[0m\u001b[0m_do_call\u001b[0m\u001b[0;34m(\u001b[0m\u001b[0m_prun_fn\u001b[0m\u001b[0;34m,\u001b[0m \u001b[0mself\u001b[0m\u001b[0;34m.\u001b[0m\u001b[0m_session\u001b[0m\u001b[0;34m,\u001b[0m \u001b[0mhandle\u001b[0m\u001b[0;34m,\u001b[0m \u001b[0mfeeds\u001b[0m\u001b[0;34m,\u001b[0m \u001b[0mfetches\u001b[0m\u001b[0;34m)\u001b[0m\u001b[0;34m\u001b[0m\u001b[0m\n",
      "\u001b[0;32m/home/leo/anaconda3/lib/python3.6/site-packages/tensorflow/python/client/session.py\u001b[0m in \u001b[0;36m_do_call\u001b[0;34m(self, fn, *args)\u001b[0m\n\u001b[1;32m   1325\u001b[0m   \u001b[0;32mdef\u001b[0m \u001b[0m_do_call\u001b[0m\u001b[0;34m(\u001b[0m\u001b[0mself\u001b[0m\u001b[0;34m,\u001b[0m \u001b[0mfn\u001b[0m\u001b[0;34m,\u001b[0m \u001b[0;34m*\u001b[0m\u001b[0margs\u001b[0m\u001b[0;34m)\u001b[0m\u001b[0;34m:\u001b[0m\u001b[0;34m\u001b[0m\u001b[0m\n\u001b[1;32m   1326\u001b[0m     \u001b[0;32mtry\u001b[0m\u001b[0;34m:\u001b[0m\u001b[0;34m\u001b[0m\u001b[0m\n\u001b[0;32m-> 1327\u001b[0;31m       \u001b[0;32mreturn\u001b[0m \u001b[0mfn\u001b[0m\u001b[0;34m(\u001b[0m\u001b[0;34m*\u001b[0m\u001b[0margs\u001b[0m\u001b[0;34m)\u001b[0m\u001b[0;34m\u001b[0m\u001b[0m\n\u001b[0m\u001b[1;32m   1328\u001b[0m     \u001b[0;32mexcept\u001b[0m \u001b[0merrors\u001b[0m\u001b[0;34m.\u001b[0m\u001b[0mOpError\u001b[0m \u001b[0;32mas\u001b[0m \u001b[0me\u001b[0m\u001b[0;34m:\u001b[0m\u001b[0;34m\u001b[0m\u001b[0m\n\u001b[1;32m   1329\u001b[0m       \u001b[0mmessage\u001b[0m \u001b[0;34m=\u001b[0m \u001b[0mcompat\u001b[0m\u001b[0;34m.\u001b[0m\u001b[0mas_text\u001b[0m\u001b[0;34m(\u001b[0m\u001b[0me\u001b[0m\u001b[0;34m.\u001b[0m\u001b[0mmessage\u001b[0m\u001b[0;34m)\u001b[0m\u001b[0;34m\u001b[0m\u001b[0m\n",
      "\u001b[0;32m/home/leo/anaconda3/lib/python3.6/site-packages/tensorflow/python/client/session.py\u001b[0m in \u001b[0;36m_run_fn\u001b[0;34m(session, feed_dict, fetch_list, target_list, options, run_metadata)\u001b[0m\n\u001b[1;32m   1304\u001b[0m           return tf_session.TF_Run(session, options,\n\u001b[1;32m   1305\u001b[0m                                    \u001b[0mfeed_dict\u001b[0m\u001b[0;34m,\u001b[0m \u001b[0mfetch_list\u001b[0m\u001b[0;34m,\u001b[0m \u001b[0mtarget_list\u001b[0m\u001b[0;34m,\u001b[0m\u001b[0;34m\u001b[0m\u001b[0m\n\u001b[0;32m-> 1306\u001b[0;31m                                    status, run_metadata)\n\u001b[0m\u001b[1;32m   1307\u001b[0m \u001b[0;34m\u001b[0m\u001b[0m\n\u001b[1;32m   1308\u001b[0m     \u001b[0;32mdef\u001b[0m \u001b[0m_prun_fn\u001b[0m\u001b[0;34m(\u001b[0m\u001b[0msession\u001b[0m\u001b[0;34m,\u001b[0m \u001b[0mhandle\u001b[0m\u001b[0;34m,\u001b[0m \u001b[0mfeed_dict\u001b[0m\u001b[0;34m,\u001b[0m \u001b[0mfetch_list\u001b[0m\u001b[0;34m)\u001b[0m\u001b[0;34m:\u001b[0m\u001b[0;34m\u001b[0m\u001b[0m\n",
      "\u001b[0;31mKeyboardInterrupt\u001b[0m: "
     ]
    }
   ],
   "source": [
    "run_demo()"
   ]
  },
  {
   "cell_type": "code",
   "execution_count": null,
   "metadata": {
    "collapsed": true
   },
   "outputs": [],
   "source": []
  }
 ],
 "metadata": {
  "kernelspec": {
   "display_name": "Python 3",
   "language": "python",
   "name": "python3"
  },
  "language_info": {
   "codemirror_mode": {
    "name": "ipython",
    "version": 3
   },
   "file_extension": ".py",
   "mimetype": "text/x-python",
   "name": "python",
   "nbconvert_exporter": "python",
   "pygments_lexer": "ipython3",
   "version": "3.6.1"
  }
 },
 "nbformat": 4,
 "nbformat_minor": 2
}
