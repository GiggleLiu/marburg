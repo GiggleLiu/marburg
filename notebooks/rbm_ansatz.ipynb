{
  "nbformat": 4,
  "nbformat_minor": 0,
  "metadata": {
    "colab": {
      "name": "rbm_ansatz.ipynb",
      "version": "0.3.2",
      "views": {},
      "default_view": {},
      "provenance": [],
      "collapsed_sections": []
    },
    "kernelspec": {
      "display_name": "Python 3",
      "language": "python",
      "name": "python3"
    }
  },
  "cells": [
    {
      "metadata": {
        "id": "yJC-_S9dXh_U",
        "colab_type": "text"
      },
      "cell_type": "markdown",
      "source": [
        "# RBM as a Quantum Wave Function Ansatz"
      ]
    },
    {
      "metadata": {
        "id": "wi81QOR46AVX",
        "colab_type": "code",
        "colab": {
          "autoexec": {
            "startup": false,
            "wait_interval": 0
          }
        }
      },
      "cell_type": "code",
      "source": [
        "try:\n",
        "    import torch\n",
        "except:\n",
        "    !pip install torch torchvision\n",
        "    import torch\n",
        "import numpy as np\n",
        "import torch.nn as nn\n",
        "import torch.nn.functional as F"
      ],
      "execution_count": 0,
      "outputs": []
    },
    {
      "metadata": {
        "id": "egWqWgGp6AVV",
        "colab_type": "text"
      },
      "cell_type": "markdown",
      "source": [
        "## Variational Monte Carlo\n",
        "With RBM as a state ansatz, we need to train its parameters in order to make it have maximum overlap with the ground state wave function of a hamiltonian.\n",
        "\n",
        "Notice that the cost function now is the energy rather than the log-likelihood with some known dataset:\n",
        "$$E_\\theta=\\frac{\\langle\\psi_\\theta|H|\\psi_\\theta\\rangle}{\\langle\\psi_\\theta|\\psi_\\theta\\rangle}$$\n",
        "Here, $\\theta$ represents parameters in a RBM.\n",
        "\n",
        "We use Variational Monte Carlo (VMC) method to get the energy expectation and gradients to optimize the ansatz.\n",
        "VMC states that the gradient of $E$ with respect to $\\theta$ is defined as \n",
        "$$g=\\langle E_{\\rm loc}\\Delta_{\\rm loc}\\rangle- \\langle E_{\\rm loc}\\rangle\\langle\\Delta_{\\rm loc}\\rangle$$\n",
        "where $\\langle\\cdot\\rangle$ is the ensemble average over Monte Carlo importance sampling $x\\sim|\\psi_\\theta(x)|^2$, $E_{\\rm loc}=\\frac{\\langle x|H|\\psi_\\theta\\rangle}{\\langle x|\\psi_\\theta\\rangle}$, $\\Delta_{\\rm loc}\\equiv\\frac{\\partial\\log\\psi_\\theta(x)}{\\partial \\theta}$."
      ]
    },
    {
      "metadata": {
        "id": "J3qdADxY6AVf",
        "colab_type": "text"
      },
      "cell_type": "markdown",
      "source": [
        "### VMC measurements\n",
        "1. obtain some samples using `vim_sample` method.\n",
        "2. perform measurements on samples.\n",
        "\n",
        "\n",
        "VMC gives expectation values for $\\langle E_{\\rm loc}\\rangle$, $\\langle\\Delta_{\\rm loc}\\rangle$ and $\\langle E_{\\rm loc}\\Delta_{\\rm loc}\\rangle$.\n",
        "It requires a kernel with following methods\n",
        "* **propose_config**: propose a new configuration, given old configuration.\n",
        "* **prob**: give probability for a spin configuration $\\langle\\sigma|\\psi\\rangle$."
      ]
    },
    {
      "metadata": {
        "id": "YnySuxew6AVg",
        "colab_type": "code",
        "colab": {
          "autoexec": {
            "startup": false,
            "wait_interval": 0
          }
        }
      },
      "cell_type": "code",
      "source": [
        "def vmc_sample(kernel, initial_config, num_bath, num_sample):\n",
        "    '''\n",
        "    obtain a set of samples.\n",
        "\n",
        "    Args:\n",
        "        kernel (object): defines how to sample, requiring the following methods:\n",
        "            * propose_config, propose a new configuration.\n",
        "            * prob, get the probability of specific distribution.\n",
        "        initial_config (1darray): initial configuration.\n",
        "        num_bath (int): number of updates to thermalize.\n",
        "        num_sample (int): number of samples.\n",
        "\n",
        "    Return:\n",
        "        list: a list of spin configurations.\n",
        "    '''\n",
        "    print_step = np.Inf  # steps between two print of accept rate, Inf to disable showing this information.\n",
        "\n",
        "    config = initial_config\n",
        "    prob = kernel.prob(config)\n",
        "\n",
        "    n_accepted = 0\n",
        "    sample_list = []\n",
        "    for i in range(num_bath + num_sample):\n",
        "        # generate new config and calculate probability ratio\n",
        "        config_proposed = kernel.propose_config(config)\n",
        "        prob_proposed = kernel.prob(config_proposed)\n",
        "\n",
        "        # accept/reject a move by metropolis algorithm (world's most famous single line algorithm)\n",
        "        if np.random.random() < prob_proposed / prob:\n",
        "            config = config_proposed\n",
        "            prob = prob_proposed\n",
        "            n_accepted += 1\n",
        "\n",
        "        # print statistics\n",
        "        if i % print_step == print_step - 1:\n",
        "            print('%-10s Accept rate: %.3f' %\n",
        "                  (i + 1, n_accepted * 1. / print_step))\n",
        "            n_accepted = 0\n",
        "\n",
        "        # add a sample\n",
        "        if i >= num_bath:\n",
        "            sample_list.append(config_proposed)\n",
        "    return sample_list\n",
        "\n",
        "\n",
        "def vmc_measure(local_measure, sample_list, measure_step, num_bin=50):\n",
        "    '''\n",
        "    perform measurements on samples\n",
        "\n",
        "    Args:\n",
        "        local_measure (func): local measurements function, input configuration, return local energy and local gradient.\n",
        "        sample_list (list): a list of spin configurations.\n",
        "        num_bin (int): number of bins in binning statistics.\n",
        "        meaure_step: number of samples skiped between two measurements + 1.\n",
        "\n",
        "    Returns:\n",
        "        tuple: expectation valued of energy, gradient, energy*gradient and error of energy.\n",
        "    '''\n",
        "    # measurements\n",
        "    energy_loc_list, grad_loc_list = [], []\n",
        "    for i, config in enumerate(sample_list):\n",
        "        if i % measure_step == 0:\n",
        "            # back-propagation is used to get gradients.\n",
        "            energy_loc, grad_loc = local_measure(config)\n",
        "            energy_loc_list.append(energy_loc)\n",
        "            grad_loc_list.append(grad_loc)\n",
        "\n",
        "    # binning statistics for energy\n",
        "    energy_loc_list = np.array(energy_loc_list)\n",
        "    energy, energy_precision = binning_statistics(energy_loc_list, num_bin=num_bin)\n",
        "\n",
        "    # get expectation values\n",
        "    energy_loc_list = torch.from_numpy(energy_loc_list)\n",
        "    if grad_loc_list[0][0].is_cuda: energy_loc_list = energy_loc_list.cuda()\n",
        "    grad_mean = []\n",
        "    energy_grad = []\n",
        "    for grad_loc in zip(*grad_loc_list):\n",
        "        grad_loc = torch.stack(grad_loc, 0)\n",
        "        grad_mean.append(grad_loc.mean(0))\n",
        "        energy_grad.append(\n",
        "            (energy_loc_list[(slice(None),) + (None,) * (grad_loc.dim() - 1)] * grad_loc).mean(0))\n",
        "    return energy.item(), grad_mean, energy_grad, energy_precision\n",
        "\n",
        "\n",
        "\n",
        "def binning_statistics(var_list, num_bin):\n",
        "    '''\n",
        "    binning statistics for variable list.\n",
        "    '''\n",
        "    num_sample = len(var_list)\n",
        "    if num_sample % num_bin != 0:\n",
        "        raise\n",
        "    size_bin = num_sample // num_bin\n",
        "\n",
        "    # mean, variance\n",
        "    mean = np.mean(var_list, axis=0)\n",
        "    variance = np.var(var_list, axis=0)\n",
        "\n",
        "    # binned variance and autocorrelation time.\n",
        "    variance_binned = np.var(\n",
        "        [np.mean(var_list[size_bin * i:size_bin * (i + 1)]) for i in range(num_bin)])\n",
        "    t_auto = 0.5 * size_bin * \\\n",
        "        np.abs(np.mean(variance_binned) / np.mean(variance))\n",
        "    stderr = np.sqrt(variance_binned / num_bin)\n",
        "    print('Binning Statistics: Energy = %.4f +- %.4f, Auto correlation Time = %.4f' %\n",
        "          (mean, stderr, t_auto))\n",
        "    return mean, stderr"
      ],
      "execution_count": 0,
      "outputs": []
    },
    {
      "metadata": {
        "id": "nY9-FD6m6AVk",
        "colab_type": "text"
      },
      "cell_type": "markdown",
      "source": [
        "### VMC Kernel definition\n",
        "When proposing a new configuration, it has 5% probability to flip all spin, can making VMC sample better in Heisenberg model, proposed configuration satisfies spin conservation.\n"
      ]
    },
    {
      "metadata": {
        "id": "gkG0kni56AVl",
        "colab_type": "code",
        "colab": {
          "autoexec": {
            "startup": false,
            "wait_interval": 0
          }
        }
      },
      "cell_type": "code",
      "source": [
        "class VMCKernel(object):\n",
        "    '''\n",
        "    variational monte carlo kernel.\n",
        "\n",
        "    Attributes:\n",
        "        energy_loc (func): local energy <x|H|\\psi>/<x|\\psi>.\n",
        "        ansatz (Module): torch neural network.\n",
        "    '''\n",
        "    def __init__(self, energy_loc, ansatz):\n",
        "        self.ansatz = ansatz\n",
        "        self.energy_loc = energy_loc\n",
        "\n",
        "    def prob(self, config):\n",
        "        '''\n",
        "        probability of configuration.\n",
        "\n",
        "        Args:\n",
        "            config (1darray): the bit string as a configuration.\n",
        "\n",
        "        Returns:\n",
        "            number: probability |<config|psi>|^2.\n",
        "        '''\n",
        "        return abs(self.ansatz.psi(torch.from_numpy(config)).item())**2\n",
        "\n",
        "    def local_measure(self, config):\n",
        "        '''\n",
        "        get local quantities energy_loc, grad_loc.\n",
        "\n",
        "        Args:\n",
        "            config (1darray): the bit string as a configuration.\n",
        "\n",
        "        Returns:\n",
        "            number, list: local energy and local gradients for variables.\n",
        "        '''\n",
        "        psi_loc = self.ansatz.psi(torch.from_numpy(config))\n",
        "\n",
        "        # get gradients {d/dW}_{loc}\n",
        "        self.ansatz.zero_grad()\n",
        "        psi_loc.backward()\n",
        "        grad_loc = [p.grad.data/psi_loc.item() for p in self.ansatz.parameters()]\n",
        "\n",
        "        # E_{loc}\n",
        "        eloc = self.energy_loc(config, lambda x: self.ansatz.psi(torch.from_numpy(x)).data, psi_loc.data)\n",
        "        return eloc, grad_loc\n",
        "\n",
        "    @staticmethod\n",
        "    def propose_config(old_config, prob_flip=0.05):\n",
        "        '''\n",
        "        flip two positions as suggested spin flips.\n",
        "\n",
        "        Args:\n",
        "            old_config (1darray): spin configuration, which is a [-1,1] string.\n",
        "            prob_flip (float): the probability to flip all spins, to make VMC more statble in Heisenberg model.\n",
        "\n",
        "        Returns:\n",
        "            1darray: new spin configuration.\n",
        "        '''\n",
        "        # take ~ 5% probability to flip all spin, can making VMC sample better in Heisenberg model\n",
        "        if np.random.random() < prob_flip:\n",
        "            return -old_config\n",
        "\n",
        "        num_spin = len(old_config)\n",
        "        upmask = old_config == 1\n",
        "        flips = np.random.randint(0, num_spin // 2, 2)\n",
        "        iflip0 = np.where(upmask)[0][flips[0]]\n",
        "        iflip1 = np.where(~upmask)[0][flips[1]]\n",
        "\n",
        "        config = old_config.copy()\n",
        "        config[iflip0] = -1\n",
        "        config[iflip1] = 1\n",
        "        return config"
      ],
      "execution_count": 0,
      "outputs": []
    },
    {
      "metadata": {
        "id": "VaEcgJmtVHdB",
        "colab_type": "text"
      },
      "cell_type": "markdown",
      "source": [
        "## Wave function ansatz\n",
        "Comparing with the model defined in last example, we make serveral adaptions here\n",
        "* using {-1, 1} valued nodes instead of {0, 1} valued nodes.\n",
        "* use probability function of visual nodes directly, $p(v)\\sim e^{x^T a}\\prod\\limits_i2\\cosh(W_ix+b_i)$."
      ]
    },
    {
      "metadata": {
        "id": "g_6uhS8x7fdH",
        "colab_type": "code",
        "colab": {
          "autoexec": {
            "startup": false,
            "wait_interval": 0
          }
        }
      },
      "cell_type": "code",
      "source": [
        "class RBM(nn.Module):\n",
        "    '''\n",
        "    Restricted Boltzmann Machine\n",
        "\n",
        "    Args:\n",
        "        num_visible (int): number of visible nodes.\n",
        "        num_hidden (int): number of hidden nodes.\n",
        "\n",
        "    Attributes:\n",
        "        W (2darray): weights.\n",
        "        v_bias (1darray): bias for visible layer.\n",
        "        h_bias (1darray): bias for hidden layer.\n",
        "    '''\n",
        "\n",
        "    def __init__(self, num_visible, num_hidden):\n",
        "        super(RBM, self).__init__()\n",
        "        self.W = nn.Parameter(torch.randn(num_hidden, num_visible).double() * 1e-1)\n",
        "        self.v_bias = nn.Parameter(torch.zeros(num_visible).double())\n",
        "        self.h_bias = nn.Parameter(torch.randn(num_hidden).double() * 1e-1)\n",
        "        self.num_visible = num_visible\n",
        "        self.num_hidden = num_hidden\n",
        "        \n",
        "    def psi(self, v):\n",
        "        '''\n",
        "        probability for visible nodes, visible/hidden nodes here take value in {-1, 1}.\n",
        "\n",
        "        Args:\n",
        "            v (1darray): visible input.\n",
        "\n",
        "        Return:\n",
        "            float: the probability of v.\n",
        "        '''\n",
        "        v = v.double()\n",
        "        if self.W.is_cuda: v = v.cuda()\n",
        "        res = (2 * (self.W.mv(v) + self.h_bias).cosh()).prod() * (self.v_bias.dot(v)).exp()\n",
        "        return res"
      ],
      "execution_count": 0,
      "outputs": []
    },
    {
      "metadata": {
        "id": "7_O7XUu_6AVp",
        "colab_type": "text"
      },
      "cell_type": "markdown",
      "source": [
        "## Hamiltonian\n",
        "Here, we use the Heisenberg model with rotated basis\n",
        "$$H=\\sum\\limits_i J_z S_i^zS_{i+1}^z-\\frac{J_{xy}}{2}(S^+_{i}S^-_{i+1}+S^-_{i}S^+_{i+1})$$\n",
        "Comparing with traditional Heisenberg model, we performed transformation $S^{x,y}_i=-S^{x,y}_i,i\\in \\rm odd$, intended to make the ground state wave function always positive.\n",
        "\n",
        "Instead of defining the hamiltonian directlt, we define a function to calculate $E_{\\rm loc}$"
      ]
    },
    {
      "metadata": {
        "id": "7U5HEs2m6AVq",
        "colab_type": "code",
        "colab": {
          "autoexec": {
            "startup": false,
            "wait_interval": 0
          }
        }
      },
      "cell_type": "code",
      "source": [
        "def heisenberg_loc(config, psi_func, psi_loc, J=1.):\n",
        "    '''\n",
        "    local energy for 1D Periodic Heisenberg chain.\n",
        "\n",
        "    Args:\n",
        "        config (1darray): bit string as spin configuration.\n",
        "        psi_func (func): wave function.\n",
        "        psi_loc (number): wave function projected on configuration <config|psi>.\n",
        "        J (float): coupling strengh. Here, J = Jxy = Jz.\n",
        "\n",
        "    Returns:\n",
        "        number: local energy.\n",
        "    '''\n",
        "    # get weights and flips after applying hamiltonian \\sum_i w_i|x_i> = H|x>\n",
        "    nsite = len(config)\n",
        "    wl, flips = [], []\n",
        "    # J*SzSz terms.\n",
        "    nn_par = np.roll(config, -1) * config\n",
        "    wl.append(J / 4. * (nn_par).sum(axis=-1).item())\n",
        "    flips.append(np.array([], dtype='int64'))\n",
        "\n",
        "    # J*SxSx and J*SySy terms.\n",
        "    mask = nn_par != 1\n",
        "    i = np.where(mask)[0]\n",
        "    j = (i + 1) % nsite\n",
        "    wl += [-J / 2.] * len(i)\n",
        "    flips.extend(zip(i, j))\n",
        "\n",
        "    # calculate local energy <\\psi|H|x>/<\\psi|x>\n",
        "    acc = 0.\n",
        "    for wi, flip in zip(wl, flips):\n",
        "        config_i = config.copy()\n",
        "        config_i[list(flip)] *= -1\n",
        "        eng_i = wi * (psi_func(config_i) / psi_loc)\n",
        "        acc += eng_i\n",
        "    return acc"
      ],
      "execution_count": 0,
      "outputs": []
    },
    {
      "metadata": {
        "id": "rB2orpQedo1c",
        "colab_type": "text"
      },
      "cell_type": "markdown",
      "source": [
        "## The training"
      ]
    },
    {
      "metadata": {
        "id": "KMzFhYgc6AVc",
        "colab_type": "code",
        "colab": {
          "autoexec": {
            "startup": false,
            "wait_interval": 0
          }
        }
      },
      "cell_type": "code",
      "source": [
        "def train(model, learning_rate, use_cuda):\n",
        "    '''\n",
        "    train a model.\n",
        "\n",
        "    Args:\n",
        "        model (obj): a model that meet VMC model definition.\n",
        "        learning_rate (float): the learning rate for SGD.\n",
        "    '''\n",
        "    initial_config = np.array([-1, 1] * (model.ansatz.num_visible // 2))\n",
        "    if use_cuda:\n",
        "        model.ansatz.cuda()\n",
        "\n",
        "    while True:\n",
        "        # get expectation values for energy, gradient and their product,\n",
        "        # as well as the precision of energy.        \n",
        "        sample_list = vmc_sample(model, initial_config, num_bath=200, num_sample=8000)\n",
        "        energy, grad, energy_grad, precision = vmc_measure(model.local_measure, sample_list, num_spin)\n",
        "\n",
        "        # update variables using steepest gradient descent\n",
        "        g_list = [eg - energy * g for eg, g in zip(energy_grad, grad)]\n",
        "        for var, g in zip(model.ansatz.parameters(), g_list):\n",
        "            delta = learning_rate * g\n",
        "            var.data -= delta\n",
        "        yield energy, precision"
      ],
      "execution_count": 0,
      "outputs": []
    },
    {
      "metadata": {
        "id": "e24315mq6AVv",
        "colab_type": "text"
      },
      "cell_type": "markdown",
      "source": [
        "### Start training\n",
        "We will see GPU is not better than CPU in this case. There are mainly two factors causing this\n",
        "* the scale of vectorized operation is not large enough\n",
        "* freqent data transfer between CPU and GPU can become a bottleneck."
      ]
    },
    {
      "metadata": {
        "id": "BEpsTZ5N6AVx",
        "colab_type": "code",
        "colab": {
          "autoexec": {
            "startup": false,
            "wait_interval": 0
          },
          "base_uri": "https://localhost:8080/",
          "height": 2249
        },
        "outputId": "59da2a02-b64c-4700-d010-9836ccca97f3",
        "executionInfo": {
          "status": "error",
          "timestamp": 1525697698874,
          "user_tz": -480,
          "elapsed": 55825,
          "user": {
            "displayName": "刘金国",
            "photoUrl": "//lh3.googleusercontent.com/-lDAT81T3HSE/AAAAAAAAAAI/AAAAAAAAAgw/eH3JEob7M1Y/s50-c-k-no/photo.jpg",
            "userId": "116824001998056121289"
          }
        }
      },
      "cell_type": "code",
      "source": [
        "%matplotlib inline\n",
        "import time\n",
        "import matplotlib.pyplot as plt\n",
        "\n",
        "# set random number seed\n",
        "use_cuda = False\n",
        "seed = 10086\n",
        "torch.manual_seed(seed)\n",
        "if use_cuda: torch.cuda.manual_seed_all(seed)\n",
        "np.random.seed(seed)\n",
        "max_iter = 100\n",
        "num_spin = 8\n",
        "num_hidden = 16\n",
        "E_exact = -3.65109341\n",
        "\n",
        "# visualize the loss history\n",
        "energy_list, precision_list = [], []\n",
        "def _update_curve(energy, precision):\n",
        "    energy_list.append(energy)\n",
        "    precision_list.append(precision)\n",
        "    if len(energy_list)%10 == 0:\n",
        "        plt.errorbar(np.arange(1, len(energy_list) + 1), energy_list, yerr=precision_list, capsize=3)\n",
        "        # dashed line for exact energy\n",
        "        plt.axhline(E_exact, ls='--')\n",
        "        plt.show()\n",
        "\n",
        "rbm = RBM(num_spin, num_hidden)\n",
        "model = VMCKernel(heisenberg_loc, ansatz=rbm)\n",
        "\n",
        "t0 = time.time()\n",
        "for i, (energy, precision) in enumerate(train(model, learning_rate = 0.1, use_cuda = use_cuda)):\n",
        "    t1 = time.time()\n",
        "    print('Step %d, dE/|E| = %.4f, elapse = %.4f' % (i, -(energy - E_exact)/E_exact, t1-t0))\n",
        "    _update_curve(energy, precision)\n",
        "    t0 = time.time()\n",
        "\n",
        "    # stop condition\n",
        "    if i >= max_iter:\n",
        "        break"
      ],
      "execution_count": 23,
      "outputs": [
        {
          "output_type": "stream",
          "text": [
            "Binning Statistics: Energy = -2.5752 +- 0.0455, Auto correlation Time = 0.4185\n",
            "Step 0, dE/|E| = 0.2947, elapse = 2.3380\n",
            "Binning Statistics: Energy = -2.6432 +- 0.0417, Auto correlation Time = 0.3898\n",
            "Step 1, dE/|E| = 0.2761, elapse = 2.4210\n",
            "Binning Statistics: Energy = -2.6183 +- 0.0472, Auto correlation Time = 0.6120\n",
            "Step 2, dE/|E| = 0.2829, elapse = 2.3998\n",
            "Binning Statistics: Energy = -2.6812 +- 0.0381, Auto correlation Time = 0.4503\n",
            "Step 3, dE/|E| = 0.2656, elapse = 2.4022\n",
            "Binning Statistics: Energy = -2.6423 +- 0.0393, Auto correlation Time = 0.5433\n",
            "Step 4, dE/|E| = 0.2763, elapse = 2.3924\n",
            "Binning Statistics: Energy = -2.7394 +- 0.0368, Auto correlation Time = 0.4653\n",
            "Step 5, dE/|E| = 0.2497, elapse = 2.4108\n",
            "Binning Statistics: Energy = -2.7198 +- 0.0313, Auto correlation Time = 0.3983\n",
            "Step 6, dE/|E| = 0.2551, elapse = 2.3942\n",
            "Binning Statistics: Energy = -2.8283 +- 0.0281, Auto correlation Time = 0.4056\n",
            "Step 7, dE/|E| = 0.2254, elapse = 2.4171\n",
            "Binning Statistics: Energy = -2.8373 +- 0.0328, Auto correlation Time = 0.5386\n",
            "Step 8, dE/|E| = 0.2229, elapse = 2.4173\n",
            "Binning Statistics: Energy = -2.8795 +- 0.0346, Auto correlation Time = 0.6192\n",
            "Step 9, dE/|E| = 0.2113, elapse = 2.4222\n"
          ],
          "name": "stdout"
        },
        {
          "output_type": "display_data",
          "data": {
            "image/png": "[encoded data removed]",
            "text/plain": [
              "<matplotlib.figure.Figure at 0x7f26b8b2c908>"
            ]
          },
          "metadata": {
            "tags": []
          }
        },
        {
          "output_type": "stream",
          "text": [
            "Binning Statistics: Energy = -2.9215 +- 0.0288, Auto correlation Time = 0.4686\n",
            "Step 10, dE/|E| = 0.1998, elapse = 2.4429\n",
            "Binning Statistics: Energy = -3.0027 +- 0.0277, Auto correlation Time = 0.4469\n",
            "Step 11, dE/|E| = 0.1776, elapse = 2.4277\n",
            "Binning Statistics: Energy = -2.9655 +- 0.0311, Auto correlation Time = 0.5804\n",
            "Step 12, dE/|E| = 0.1878, elapse = 2.4272\n",
            "Binning Statistics: Energy = -3.0553 +- 0.0278, Auto correlation Time = 0.5056\n",
            "Step 13, dE/|E| = 0.1632, elapse = 2.4185\n",
            "Binning Statistics: Energy = -3.0617 +- 0.0290, Auto correlation Time = 0.5580\n",
            "Step 14, dE/|E| = 0.1614, elapse = 2.4224\n",
            "Binning Statistics: Energy = -3.1071 +- 0.0278, Auto correlation Time = 0.5621\n",
            "Step 15, dE/|E| = 0.1490, elapse = 2.4376\n",
            "Binning Statistics: Energy = -3.0956 +- 0.0242, Auto correlation Time = 0.3862\n",
            "Step 16, dE/|E| = 0.1521, elapse = 2.4204\n",
            "Binning Statistics: Energy = -3.1836 +- 0.0257, Auto correlation Time = 0.4730\n",
            "Step 17, dE/|E| = 0.1280, elapse = 2.4350\n",
            "Binning Statistics: Energy = -3.2158 +- 0.0231, Auto correlation Time = 0.3985\n",
            "Step 18, dE/|E| = 0.1192, elapse = 2.4409\n",
            "Binning Statistics: Energy = -3.1611 +- 0.0270, Auto correlation Time = 0.5128\n",
            "Step 19, dE/|E| = 0.1342, elapse = 2.4217\n"
          ],
          "name": "stdout"
        },
        {
          "output_type": "display_data",
          "data": {
            "image/png": "[encoded data removed]",
            "text/plain": [
              "<matplotlib.figure.Figure at 0x7f26b949b9b0>"
            ]
          },
          "metadata": {
            "tags": []
          }
        },
        {
          "output_type": "stream",
          "text": [
            "Binning Statistics: Energy = -3.1408 +- 0.0245, Auto correlation Time = 0.5480\n",
            "Step 20, dE/|E| = 0.1398, elapse = 2.4577\n",
            "Binning Statistics: Energy = -3.1640 +- 0.0257, Auto correlation Time = 0.5925\n",
            "Step 21, dE/|E| = 0.1334, elapse = 2.4249\n"
          ],
          "name": "stdout"
        },
        {
          "output_type": "error",
          "ename": "KeyboardInterrupt",
          "evalue": "ignored",
          "traceback": [
            "\u001b[0;31m---------------------------------------------------------------------------\u001b[0m",
            "\u001b[0;31mKeyboardInterrupt\u001b[0m                         Traceback (most recent call last)",
            "\u001b[0;32m<ipython-input-23-efe984ae8b77>\u001b[0m in \u001b[0;36m<module>\u001b[0;34m()\u001b[0m\n\u001b[1;32m     29\u001b[0m \u001b[0;34m\u001b[0m\u001b[0m\n\u001b[1;32m     30\u001b[0m \u001b[0mt0\u001b[0m \u001b[0;34m=\u001b[0m \u001b[0mtime\u001b[0m\u001b[0;34m.\u001b[0m\u001b[0mtime\u001b[0m\u001b[0;34m(\u001b[0m\u001b[0;34m)\u001b[0m\u001b[0;34m\u001b[0m\u001b[0m\n\u001b[0;32m---> 31\u001b[0;31m \u001b[0;32mfor\u001b[0m \u001b[0mi\u001b[0m\u001b[0;34m,\u001b[0m \u001b[0;34m(\u001b[0m\u001b[0menergy\u001b[0m\u001b[0;34m,\u001b[0m \u001b[0mprecision\u001b[0m\u001b[0;34m)\u001b[0m \u001b[0;32min\u001b[0m \u001b[0menumerate\u001b[0m\u001b[0;34m(\u001b[0m\u001b[0mtrain\u001b[0m\u001b[0;34m(\u001b[0m\u001b[0mmodel\u001b[0m\u001b[0;34m,\u001b[0m \u001b[0mlearning_rate\u001b[0m \u001b[0;34m=\u001b[0m \u001b[0;36m0.1\u001b[0m\u001b[0;34m,\u001b[0m \u001b[0muse_cuda\u001b[0m \u001b[0;34m=\u001b[0m \u001b[0muse_cuda\u001b[0m\u001b[0;34m)\u001b[0m\u001b[0;34m)\u001b[0m\u001b[0;34m:\u001b[0m\u001b[0;34m\u001b[0m\u001b[0m\n\u001b[0m\u001b[1;32m     32\u001b[0m     \u001b[0mt1\u001b[0m \u001b[0;34m=\u001b[0m \u001b[0mtime\u001b[0m\u001b[0;34m.\u001b[0m\u001b[0mtime\u001b[0m\u001b[0;34m(\u001b[0m\u001b[0;34m)\u001b[0m\u001b[0;34m\u001b[0m\u001b[0m\n\u001b[1;32m     33\u001b[0m     \u001b[0mprint\u001b[0m\u001b[0;34m(\u001b[0m\u001b[0;34m'Step %d, dE/|E| = %.4f, elapse = %.4f'\u001b[0m \u001b[0;34m%\u001b[0m \u001b[0;34m(\u001b[0m\u001b[0mi\u001b[0m\u001b[0;34m,\u001b[0m \u001b[0;34m-\u001b[0m\u001b[0;34m(\u001b[0m\u001b[0menergy\u001b[0m \u001b[0;34m-\u001b[0m \u001b[0mE_exact\u001b[0m\u001b[0;34m)\u001b[0m\u001b[0;34m/\u001b[0m\u001b[0mE_exact\u001b[0m\u001b[0;34m,\u001b[0m \u001b[0mt1\u001b[0m\u001b[0;34m-\u001b[0m\u001b[0mt0\u001b[0m\u001b[0;34m)\u001b[0m\u001b[0;34m)\u001b[0m\u001b[0;34m\u001b[0m\u001b[0m\n",
            "\u001b[0;32m<ipython-input-22-28ddb3209194>\u001b[0m in \u001b[0;36mtrain\u001b[0;34m(model, learning_rate, use_cuda)\u001b[0m\n\u001b[1;32m     15\u001b[0m         \u001b[0;31m# as well as the precision of energy.\u001b[0m\u001b[0;34m\u001b[0m\u001b[0;34m\u001b[0m\u001b[0m\n\u001b[1;32m     16\u001b[0m         \u001b[0msample_list\u001b[0m \u001b[0;34m=\u001b[0m \u001b[0mvmc_sample\u001b[0m\u001b[0;34m(\u001b[0m\u001b[0mmodel\u001b[0m\u001b[0;34m,\u001b[0m \u001b[0minitial_config\u001b[0m\u001b[0;34m,\u001b[0m \u001b[0mnum_bath\u001b[0m\u001b[0;34m=\u001b[0m\u001b[0;36m200\u001b[0m\u001b[0;34m,\u001b[0m \u001b[0mnum_sample\u001b[0m\u001b[0;34m=\u001b[0m\u001b[0;36m8000\u001b[0m\u001b[0;34m)\u001b[0m\u001b[0;34m\u001b[0m\u001b[0m\n\u001b[0;32m---> 17\u001b[0;31m         \u001b[0menergy\u001b[0m\u001b[0;34m,\u001b[0m \u001b[0mgrad\u001b[0m\u001b[0;34m,\u001b[0m \u001b[0menergy_grad\u001b[0m\u001b[0;34m,\u001b[0m \u001b[0mprecision\u001b[0m \u001b[0;34m=\u001b[0m \u001b[0mvmc_measure\u001b[0m\u001b[0;34m(\u001b[0m\u001b[0mmodel\u001b[0m\u001b[0;34m.\u001b[0m\u001b[0mlocal_measure\u001b[0m\u001b[0;34m,\u001b[0m \u001b[0msample_list\u001b[0m\u001b[0;34m,\u001b[0m \u001b[0mnum_spin\u001b[0m\u001b[0;34m)\u001b[0m\u001b[0;34m\u001b[0m\u001b[0m\n\u001b[0m\u001b[1;32m     18\u001b[0m \u001b[0;34m\u001b[0m\u001b[0m\n\u001b[1;32m     19\u001b[0m         \u001b[0;31m# update variables using steepest gradient descent\u001b[0m\u001b[0;34m\u001b[0m\u001b[0;34m\u001b[0m\u001b[0m\n",
            "\u001b[0;32m<ipython-input-13-97345af00a71>\u001b[0m in \u001b[0;36mvmc_measure\u001b[0;34m(local_measure, sample_list, measure_step, num_bin)\u001b[0m\n\u001b[1;32m     62\u001b[0m         \u001b[0;32mif\u001b[0m \u001b[0mi\u001b[0m \u001b[0;34m%\u001b[0m \u001b[0mmeasure_step\u001b[0m \u001b[0;34m==\u001b[0m \u001b[0;36m0\u001b[0m\u001b[0;34m:\u001b[0m\u001b[0;34m\u001b[0m\u001b[0m\n\u001b[1;32m     63\u001b[0m             \u001b[0;31m# back-propagation is used to get gradients.\u001b[0m\u001b[0;34m\u001b[0m\u001b[0;34m\u001b[0m\u001b[0m\n\u001b[0;32m---> 64\u001b[0;31m             \u001b[0menergy_loc\u001b[0m\u001b[0;34m,\u001b[0m \u001b[0mgrad_loc\u001b[0m \u001b[0;34m=\u001b[0m \u001b[0mlocal_measure\u001b[0m\u001b[0;34m(\u001b[0m\u001b[0mconfig\u001b[0m\u001b[0;34m)\u001b[0m\u001b[0;34m\u001b[0m\u001b[0m\n\u001b[0m\u001b[1;32m     65\u001b[0m             \u001b[0menergy_loc_list\u001b[0m\u001b[0;34m.\u001b[0m\u001b[0mappend\u001b[0m\u001b[0;34m(\u001b[0m\u001b[0menergy_loc\u001b[0m\u001b[0;34m)\u001b[0m\u001b[0;34m\u001b[0m\u001b[0m\n\u001b[1;32m     66\u001b[0m             \u001b[0mgrad_loc_list\u001b[0m\u001b[0;34m.\u001b[0m\u001b[0mappend\u001b[0m\u001b[0;34m(\u001b[0m\u001b[0mgrad_loc\u001b[0m\u001b[0;34m)\u001b[0m\u001b[0;34m\u001b[0m\u001b[0m\n",
            "\u001b[0;32m<ipython-input-19-80c2aa68884e>\u001b[0m in \u001b[0;36mlocal_measure\u001b[0;34m(self, config)\u001b[0m\n\u001b[1;32m     41\u001b[0m \u001b[0;34m\u001b[0m\u001b[0m\n\u001b[1;32m     42\u001b[0m         \u001b[0;31m# E_{loc}\u001b[0m\u001b[0;34m\u001b[0m\u001b[0;34m\u001b[0m\u001b[0m\n\u001b[0;32m---> 43\u001b[0;31m         \u001b[0meloc\u001b[0m \u001b[0;34m=\u001b[0m \u001b[0mself\u001b[0m\u001b[0;34m.\u001b[0m\u001b[0menergy_loc\u001b[0m\u001b[0;34m(\u001b[0m\u001b[0mconfig\u001b[0m\u001b[0;34m,\u001b[0m \u001b[0;32mlambda\u001b[0m \u001b[0mx\u001b[0m\u001b[0;34m:\u001b[0m \u001b[0mself\u001b[0m\u001b[0;34m.\u001b[0m\u001b[0mansatz\u001b[0m\u001b[0;34m.\u001b[0m\u001b[0mpsi\u001b[0m\u001b[0;34m(\u001b[0m\u001b[0mtorch\u001b[0m\u001b[0;34m.\u001b[0m\u001b[0mfrom_numpy\u001b[0m\u001b[0;34m(\u001b[0m\u001b[0mx\u001b[0m\u001b[0;34m)\u001b[0m\u001b[0;34m)\u001b[0m\u001b[0;34m.\u001b[0m\u001b[0mdata\u001b[0m\u001b[0;34m,\u001b[0m \u001b[0mpsi_loc\u001b[0m\u001b[0;34m.\u001b[0m\u001b[0mdata\u001b[0m\u001b[0;34m)\u001b[0m\u001b[0;34m\u001b[0m\u001b[0m\n\u001b[0m\u001b[1;32m     44\u001b[0m         \u001b[0;32mreturn\u001b[0m \u001b[0meloc\u001b[0m\u001b[0;34m,\u001b[0m \u001b[0mgrad_loc\u001b[0m\u001b[0;34m\u001b[0m\u001b[0m\n\u001b[1;32m     45\u001b[0m \u001b[0;34m\u001b[0m\u001b[0m\n",
            "\u001b[0;32m<ipython-input-21-addfdba35f3c>\u001b[0m in \u001b[0;36mheisenberg_loc\u001b[0;34m(config, psi_func, psi_loc, J)\u001b[0m\n\u001b[1;32m     32\u001b[0m         \u001b[0mconfig_i\u001b[0m \u001b[0;34m=\u001b[0m \u001b[0mconfig\u001b[0m\u001b[0;34m.\u001b[0m\u001b[0mcopy\u001b[0m\u001b[0;34m(\u001b[0m\u001b[0;34m)\u001b[0m\u001b[0;34m\u001b[0m\u001b[0m\n\u001b[1;32m     33\u001b[0m         \u001b[0mconfig_i\u001b[0m\u001b[0;34m[\u001b[0m\u001b[0mlist\u001b[0m\u001b[0;34m(\u001b[0m\u001b[0mflip\u001b[0m\u001b[0;34m)\u001b[0m\u001b[0;34m]\u001b[0m \u001b[0;34m*=\u001b[0m \u001b[0;34m-\u001b[0m\u001b[0;36m1\u001b[0m\u001b[0;34m\u001b[0m\u001b[0m\n\u001b[0;32m---> 34\u001b[0;31m         \u001b[0meng_i\u001b[0m \u001b[0;34m=\u001b[0m \u001b[0mwi\u001b[0m \u001b[0;34m*\u001b[0m \u001b[0;34m(\u001b[0m\u001b[0mpsi_func\u001b[0m\u001b[0;34m(\u001b[0m\u001b[0mconfig_i\u001b[0m\u001b[0;34m)\u001b[0m \u001b[0;34m/\u001b[0m \u001b[0mpsi_loc\u001b[0m\u001b[0;34m)\u001b[0m\u001b[0;34m\u001b[0m\u001b[0m\n\u001b[0m\u001b[1;32m     35\u001b[0m         \u001b[0macc\u001b[0m \u001b[0;34m+=\u001b[0m \u001b[0meng_i\u001b[0m\u001b[0;34m\u001b[0m\u001b[0m\n\u001b[1;32m     36\u001b[0m     \u001b[0;32mreturn\u001b[0m \u001b[0macc\u001b[0m\u001b[0;34m\u001b[0m\u001b[0m\n",
            "\u001b[0;32m<ipython-input-19-80c2aa68884e>\u001b[0m in \u001b[0;36m<lambda>\u001b[0;34m(x)\u001b[0m\n\u001b[1;32m     41\u001b[0m \u001b[0;34m\u001b[0m\u001b[0m\n\u001b[1;32m     42\u001b[0m         \u001b[0;31m# E_{loc}\u001b[0m\u001b[0;34m\u001b[0m\u001b[0;34m\u001b[0m\u001b[0m\n\u001b[0;32m---> 43\u001b[0;31m         \u001b[0meloc\u001b[0m \u001b[0;34m=\u001b[0m \u001b[0mself\u001b[0m\u001b[0;34m.\u001b[0m\u001b[0menergy_loc\u001b[0m\u001b[0;34m(\u001b[0m\u001b[0mconfig\u001b[0m\u001b[0;34m,\u001b[0m \u001b[0;32mlambda\u001b[0m \u001b[0mx\u001b[0m\u001b[0;34m:\u001b[0m \u001b[0mself\u001b[0m\u001b[0;34m.\u001b[0m\u001b[0mansatz\u001b[0m\u001b[0;34m.\u001b[0m\u001b[0mpsi\u001b[0m\u001b[0;34m(\u001b[0m\u001b[0mtorch\u001b[0m\u001b[0;34m.\u001b[0m\u001b[0mfrom_numpy\u001b[0m\u001b[0;34m(\u001b[0m\u001b[0mx\u001b[0m\u001b[0;34m)\u001b[0m\u001b[0;34m)\u001b[0m\u001b[0;34m.\u001b[0m\u001b[0mdata\u001b[0m\u001b[0;34m,\u001b[0m \u001b[0mpsi_loc\u001b[0m\u001b[0;34m.\u001b[0m\u001b[0mdata\u001b[0m\u001b[0;34m)\u001b[0m\u001b[0;34m\u001b[0m\u001b[0m\n\u001b[0m\u001b[1;32m     44\u001b[0m         \u001b[0;32mreturn\u001b[0m \u001b[0meloc\u001b[0m\u001b[0;34m,\u001b[0m \u001b[0mgrad_loc\u001b[0m\u001b[0;34m\u001b[0m\u001b[0m\n\u001b[1;32m     45\u001b[0m \u001b[0;34m\u001b[0m\u001b[0m\n",
            "\u001b[0;32m<ipython-input-20-d39c01e6e263>\u001b[0m in \u001b[0;36mpsi\u001b[0;34m(self, v)\u001b[0m\n\u001b[1;32m     31\u001b[0m             \u001b[0mfloat\u001b[0m\u001b[0;34m:\u001b[0m \u001b[0mthe\u001b[0m \u001b[0mprobability\u001b[0m \u001b[0mof\u001b[0m \u001b[0mv\u001b[0m\u001b[0;34m.\u001b[0m\u001b[0;34m\u001b[0m\u001b[0m\n\u001b[1;32m     32\u001b[0m         '''\n\u001b[0;32m---> 33\u001b[0;31m         \u001b[0mv\u001b[0m \u001b[0;34m=\u001b[0m \u001b[0mv\u001b[0m\u001b[0;34m.\u001b[0m\u001b[0mdouble\u001b[0m\u001b[0;34m(\u001b[0m\u001b[0;34m)\u001b[0m\u001b[0;34m\u001b[0m\u001b[0m\n\u001b[0m\u001b[1;32m     34\u001b[0m         \u001b[0;32mif\u001b[0m \u001b[0mself\u001b[0m\u001b[0;34m.\u001b[0m\u001b[0mW\u001b[0m\u001b[0;34m.\u001b[0m\u001b[0mis_cuda\u001b[0m\u001b[0;34m:\u001b[0m \u001b[0mv\u001b[0m \u001b[0;34m=\u001b[0m \u001b[0mv\u001b[0m\u001b[0;34m.\u001b[0m\u001b[0mcuda\u001b[0m\u001b[0;34m(\u001b[0m\u001b[0;34m)\u001b[0m\u001b[0;34m\u001b[0m\u001b[0m\n\u001b[1;32m     35\u001b[0m         \u001b[0mres\u001b[0m \u001b[0;34m=\u001b[0m \u001b[0;34m(\u001b[0m\u001b[0;36m2\u001b[0m \u001b[0;34m*\u001b[0m \u001b[0;34m(\u001b[0m\u001b[0mself\u001b[0m\u001b[0;34m.\u001b[0m\u001b[0mW\u001b[0m\u001b[0;34m.\u001b[0m\u001b[0mmv\u001b[0m\u001b[0;34m(\u001b[0m\u001b[0mv\u001b[0m\u001b[0;34m)\u001b[0m \u001b[0;34m+\u001b[0m \u001b[0mself\u001b[0m\u001b[0;34m.\u001b[0m\u001b[0mh_bias\u001b[0m\u001b[0;34m)\u001b[0m\u001b[0;34m.\u001b[0m\u001b[0mcosh\u001b[0m\u001b[0;34m(\u001b[0m\u001b[0;34m)\u001b[0m\u001b[0;34m)\u001b[0m\u001b[0;34m.\u001b[0m\u001b[0mprod\u001b[0m\u001b[0;34m(\u001b[0m\u001b[0;34m)\u001b[0m \u001b[0;34m*\u001b[0m \u001b[0;34m(\u001b[0m\u001b[0mself\u001b[0m\u001b[0;34m.\u001b[0m\u001b[0mv_bias\u001b[0m\u001b[0;34m.\u001b[0m\u001b[0mdot\u001b[0m\u001b[0;34m(\u001b[0m\u001b[0mv\u001b[0m\u001b[0;34m)\u001b[0m\u001b[0;34m)\u001b[0m\u001b[0;34m.\u001b[0m\u001b[0mexp\u001b[0m\u001b[0;34m(\u001b[0m\u001b[0;34m)\u001b[0m\u001b[0;34m\u001b[0m\u001b[0m\n",
            "\u001b[0;31mKeyboardInterrupt\u001b[0m: "
          ]
        }
      ]
    },
    {
      "metadata": {
        "id": "t1F2-L3F1rBr",
        "colab_type": "text"
      },
      "cell_type": "markdown",
      "source": [
        "## Challenge\n",
        "J1-J2 model is an advanced version of Heisenberg model that takes 2nd nearest neighbor coupling terms into considerations. Its hamiltonian is \n",
        "\n",
        "$$H=J_1\\sum\\limits_i \\vec S_i\\cdot \\vec S_{i+1}+ J_2\\sum_i\\vec S_i\\cdot \\vec S_{i+2}$$\n",
        "\n",
        "The sign of its ground state wave functions $\\psi(x)=\\langle x|\\psi\\rangle$ can be either positive or negative. Since real valued RBM is not able to describe such a state.\n",
        "\n",
        "With the following local energy function, write your own ansatz to obtain its ground state.\n",
        "\n",
        "As a start point, you can try with 20 sites, $J_2=0.2$.\n",
        "Obtain the best precision as you can.\n",
        "\n",
        "Below is a table of DMRG results for benchmark, which is believe to be \"exact\" for 1D systems.\n",
        "\n",
        "| &nbsp;&nbsp;&nbsp;$J_2$ &nbsp;&nbsp;&nbsp;  | 20             | 30             | 40             | 100            |\n",
        "| -------------------- | -------------- | -------------- | -------------- | -------------- |\n",
        "| 0.                   | -8.90438652988&nbsp;&nbsp;&nbsp; | -13.3219630586&nbsp;&nbsp;&nbsp; | -17.7465227719&nbsp;&nbsp;&nbsp; | -44.3229467082&nbsp;&nbsp;&nbsp; |\n",
        "| 0.2                  | -8.20291625218 | -12.2770471706 | -16.3566615295 | -40.8572924302 |\n",
        "| 0.5                  | -7.5           | -11.25         | -15            | 37.5           |\n",
        "| 0.8                  | -8.46127240196 | -12.6588455544 | -16.8706800952 | -42.0700632095 |\n"
      ]
    },
    {
      "metadata": {
        "id": "QkR3KNCw1wFx",
        "colab_type": "code",
        "colab": {
          "autoexec": {
            "startup": false,
            "wait_interval": 0
          }
        }
      },
      "cell_type": "code",
      "source": [
        "def J1J2_loc(config, psi_func, psi_loc, J1, J1z, J2, J2z, periodic):\n",
        "    '''\n",
        "    local energy for 1D J1, J2 chain.\n",
        "\n",
        "    Args:\n",
        "        config (1darray): bit string as spin configuration.\n",
        "        psi_func (func): wave function.\n",
        "        psi_loc (number): wave function projected on configuration <config|psi>.\n",
        "        J1, J1z, J2, J2z (float): coupling strenghs for nearest neightbor, nearest neighbor z-direction, 2nd nearest neighbor and 2nd nearest neighbor in z-direction.\n",
        "        periodic (bool): boundary condition.\n",
        "\n",
        "    Returns:\n",
        "        number: local energy.\n",
        "    '''\n",
        "    nsite = len(config)\n",
        "    wl, flips = [], []\n",
        "    Js = [J1, J2]\n",
        "    Jzs = [J1z, J2z]\n",
        "    for INB, (J,Jz) in enumerate(zip(Js, Jzs)):\n",
        "        # J1(SzSz) terms.\n",
        "        nn_par = np.roll(config, -INB-1) * config\n",
        "        if not periodic:\n",
        "            nn_par = nn_par[:-INB-1]\n",
        "        wl.append(Jz / 4. * (nn_par).sum(axis=-1))\n",
        "        flips.append(np.array([], dtype='int64'))\n",
        "\n",
        "        # J1(SxSx) and J1(SySy) terms.\n",
        "        mask = nn_par != 1\n",
        "        i = np.where(mask)[0]\n",
        "        j = (i + INB+1) % nsite\n",
        "\n",
        "        wl += [J / 2.] * len(i)\n",
        "        flips.extend(zip(i, j))\n",
        "        \n",
        "    # calculate local energy <\\psi|H|x>/<\\psi|x>\n",
        "    acc = 0\n",
        "    for wi, flip in zip(wl, flips):\n",
        "        config_i = config.copy()\n",
        "        config_i[list(flip)] *= -1\n",
        "        eng_i = wi * psi_func(config_i) / psi_loc\n",
        "        acc += eng_i\n",
        "    return acc"
      ],
      "execution_count": 0,
      "outputs": []
    },
    {
      "metadata": {
        "id": "qRBaeQgTCgb9",
        "colab_type": "text"
      },
      "cell_type": "markdown",
      "source": [
        "## Hints\n",
        "* spliting phase and amplitude parts of a wave function is suggested in\n",
        "\n",
        "    `Cai, Zi, and Jinguo Liu. \"Approximating quantum many-body wave functions using artificial neural networks.\" Physical Review B 97.3 (2018): 035116.`\n",
        "* using **symmetries** like invariance under translation ,spin flip and inversion in your model to make training more stable.\n",
        "Ground states of J1-J2 models with different $J_2$ or $N$ lies in different symmetry blocks.\n",
        "* use stochastic reconfiguration or Adam as a better **optimization** method.\n",
        "* rewrite the part of code to get local energy using C/C++/Fortran for speed up.\n",
        "* use tensorflow or your own modules to support **complex values**.\n",
        "* for large scale 2D J1-J2 model, its ground state is an **open question yet**!"
      ]
    },
    {
      "metadata": {
        "id": "SKjnfSMq6AWf",
        "colab_type": "code",
        "colab": {
          "autoexec": {
            "startup": false,
            "wait_interval": 0
          }
        }
      },
      "cell_type": "code",
      "source": [
        ""
      ],
      "execution_count": 0,
      "outputs": []
    }
  ]
}