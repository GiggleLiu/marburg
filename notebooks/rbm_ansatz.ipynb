{
  "nbformat": 4,
  "nbformat_minor": 0,
  "metadata": {
    "colab": {
      "name": "rbm_ansatz.ipynb",
      "version": "0.3.2",
      "views": {},
      "default_view": {},
      "provenance": [],
      "collapsed_sections": []
    },
    "kernelspec": {
      "display_name": "Python 3",
      "language": "python",
      "name": "python3"
    }
  },
  "cells": [
    {
      "metadata": {
        "id": "yJC-_S9dXh_U",
        "colab_type": "text"
      },
      "cell_type": "markdown",
      "source": [
        "# RBM as a Quantum Wave Function Ansatz"
      ]
    },
    {
      "metadata": {
        "id": "wi81QOR46AVX",
        "colab_type": "code",
        "colab": {
          "autoexec": {
            "startup": false,
            "wait_interval": 0
          }
        }
      },
      "cell_type": "code",
      "source": [
        "from __future__ import division\n",
        "try:\n",
        "    import torch\n",
        "except:\n",
        "    !pip install http://download.pytorch.org/whl/cu80/torch-0.3.0.post4-cp36-cp36m-linux_x86_64.whl \n",
        "    import torch\n",
        "import numpy as np\n",
        "import torch.nn as nn\n",
        "import torch.nn.functional as F\n",
        "from torch.autograd import Variable"
      ],
      "execution_count": 0,
      "outputs": []
    },
    {
      "metadata": {
        "id": "egWqWgGp6AVV",
        "colab_type": "text"
      },
      "cell_type": "markdown",
      "source": [
        "## Variational Monte Carlo\n",
        "With RBM as a state ansatz, we need to train its parameters in order to make it have maximum overlap with the ground state wave function of a hamiltonian.\n",
        "\n",
        "Notice that the cost function now is the energy rather than the log-likelihood with some known dataset:\n",
        "$$E_\\theta=\\frac{\\langle\\psi_\\theta|H|\\psi_\\theta\\rangle}{\\langle\\psi_\\theta|\\psi_\\theta\\rangle}$$\n",
        "Here, $\\theta$ represents parameters in a RBM.\n",
        "\n",
        "We use Variational Monte Carlo (VMC) method to get the energy expectation and gradients to optimize the ansatz.\n",
        "VMC states that the gradient of $E$ with respect to $\\theta$ is defined as \n",
        "$$g=\\langle E_{\\rm loc}\\Delta_{\\rm loc}\\rangle- \\langle E_{\\rm loc}\\rangle\\langle\\Delta_{\\rm loc}\\rangle$$\n",
        "where $\\langle\\cdot\\rangle$ is the ensemble average over Monte Carlo importance sampling $x\\sim|\\psi_\\theta(x)|^2$, $E_{\\rm loc}=\\frac{\\langle x|H|\\psi_\\theta\\rangle}{\\langle x|\\psi_\\theta\\rangle}$, $\\Delta_{\\rm loc}\\equiv\\frac{\\partial\\log\\psi_\\theta(x)}{\\partial \\theta}$."
      ]
    },
    {
      "metadata": {
        "id": "J3qdADxY6AVf",
        "colab_type": "text"
      },
      "cell_type": "markdown",
      "source": [
        "### VMC measurements\n",
        "1. obtain some samples using `vim_sample` method.\n",
        "2. perform measurements on samples.\n",
        "\n",
        "\n",
        "VMC gives expectation values for $\\langle E_{\\rm loc}\\rangle$, $\\langle\\Delta_{\\rm loc}\\rangle$ and $\\langle E_{\\rm loc}\\Delta_{\\rm loc}\\rangle$.\n",
        "It requires a kernel with following methods\n",
        "* **propose_config**: propose a new configuration, given old configuration.\n",
        "* **prob**: give probability for a spin configuration $\\langle\\sigma|\\psi\\rangle$."
      ]
    },
    {
      "metadata": {
        "id": "YnySuxew6AVg",
        "colab_type": "code",
        "colab": {
          "autoexec": {
            "startup": false,
            "wait_interval": 0
          }
        }
      },
      "cell_type": "code",
      "source": [
        "def vmc_sample(kernel, initial_config, num_bath, num_sample):\n",
        "    '''\n",
        "    obtain a set of samples.\n",
        "\n",
        "    Args:\n",
        "        kernel (object): defines how to sample, requiring the following methods:\n",
        "            * propose_config, propose a new configuration.\n",
        "            * prob, get the probability of specific distribution.\n",
        "        initial_config (1darray): initial configuration.\n",
        "        num_bath (int): number of updates to thermalize.\n",
        "        num_sample (int): number of samples.\n",
        "\n",
        "    Return:\n",
        "        list: a list of spin configurations.\n",
        "    '''\n",
        "    print_step = np.Inf  # steps between two print of accept rate, Inf to disable showing this information.\n",
        "\n",
        "    config = initial_config\n",
        "    prob = kernel.prob(config)\n",
        "\n",
        "    n_accepted = 0\n",
        "    sample_list = []\n",
        "    for i in range(num_bath + num_sample):\n",
        "        # generate new config and calculate probability ratio\n",
        "        config_proposed = kernel.propose_config(config)\n",
        "        prob_proposed = kernel.prob(config_proposed)\n",
        "\n",
        "        # accept/reject a move by metropolis algorithm (world's most famous single line algorithm)\n",
        "        if np.random.random() < prob_proposed / prob:\n",
        "            config = config_proposed\n",
        "            prob = prob_proposed\n",
        "            n_accepted += 1\n",
        "\n",
        "        # print statistics\n",
        "        if i % print_step == print_step - 1:\n",
        "            print('%-10s Accept rate: %.3f' %\n",
        "                  (i + 1, n_accepted * 1. / print_step))\n",
        "            n_accepted = 0\n",
        "\n",
        "        # add a sample\n",
        "        if i >= num_bath:\n",
        "            sample_list.append(config_proposed)\n",
        "    return sample_list\n",
        "\n",
        "\n",
        "def vmc_measure(local_measure, sample_list, measure_step, num_bin=50):\n",
        "    '''\n",
        "    perform measurements on samples\n",
        "\n",
        "    Args:\n",
        "        local_measure (func): local measurements function, input configuration, return local energy and local gradient.\n",
        "        sample_list (list): a list of spin configurations.\n",
        "        num_bin (int): number of bins in binning statistics.\n",
        "        meaure_step: number of samples skiped between two measurements + 1.\n",
        "\n",
        "    Returns:\n",
        "        tuple: expectation valued of energy, gradient, energy*gradient and error of energy.\n",
        "    '''\n",
        "    # measurements\n",
        "    energy_loc_list, grad_loc_list = [], []\n",
        "    for i, config in enumerate(sample_list):\n",
        "        if i % measure_step == 0:\n",
        "            # back-propagation is used to get gradients.\n",
        "            energy_loc, grad_loc = local_measure(config)\n",
        "            energy_loc_list.append(energy_loc)\n",
        "            grad_loc_list.append(grad_loc)\n",
        "\n",
        "    # binning statistics for energy\n",
        "    energy_loc_list = np.array(energy_loc_list)\n",
        "    energy, energy_precision = binning_statistics(energy_loc_list, num_bin=num_bin)\n",
        "\n",
        "    # get expectation values\n",
        "    energy_loc_list = torch.from_numpy(energy_loc_list)\n",
        "    if grad_loc_list[0][0].is_cuda: energy_loc_list = energy_loc_list.cuda()\n",
        "    grad_mean = []\n",
        "    energy_grad = []\n",
        "    for grad_loc in zip(*grad_loc_list):\n",
        "        grad_loc = torch.stack(grad_loc, 0)\n",
        "        grad_mean.append(grad_loc.mean(0))\n",
        "        energy_grad.append(\n",
        "            (energy_loc_list[(slice(None),) + (None,) * (grad_loc.dim() - 1)] * grad_loc).mean(0))\n",
        "    return energy.item(), grad_mean, energy_grad, energy_precision\n",
        "\n",
        "\n",
        "\n",
        "def binning_statistics(var_list, num_bin):\n",
        "    '''\n",
        "    binning statistics for variable list.\n",
        "    '''\n",
        "    num_sample = len(var_list)\n",
        "    if num_sample % num_bin != 0:\n",
        "        raise\n",
        "    size_bin = num_sample // num_bin\n",
        "\n",
        "    # mean, variance\n",
        "    mean = np.mean(var_list, axis=0)\n",
        "    variance = np.var(var_list, axis=0)\n",
        "\n",
        "    # binned variance and autocorrelation time.\n",
        "    variance_binned = np.var(\n",
        "        [np.mean(var_list[size_bin * i:size_bin * (i + 1)]) for i in range(num_bin)])\n",
        "    t_auto = 0.5 * size_bin * \\\n",
        "        np.abs(np.mean(variance_binned) / np.mean(variance))\n",
        "    stderr = np.sqrt(variance_binned / num_bin)\n",
        "    print('Binning Statistics: Energy = %.4f +- %.4f, Auto correlation Time = %.4f' %\n",
        "          (mean, stderr, t_auto))\n",
        "    return mean, stderr"
      ],
      "execution_count": 0,
      "outputs": []
    },
    {
      "metadata": {
        "id": "nY9-FD6m6AVk",
        "colab_type": "text"
      },
      "cell_type": "markdown",
      "source": [
        "### VMC Kernel definition\n",
        "When proposing a new configuration, it has 5% probability to flip all spin, can making VMC sample better in Heisenberg model, proposed configuration satisfies spin conservation.\n"
      ]
    },
    {
      "metadata": {
        "id": "gkG0kni56AVl",
        "colab_type": "code",
        "colab": {
          "autoexec": {
            "startup": false,
            "wait_interval": 0
          }
        }
      },
      "cell_type": "code",
      "source": [
        "class VMCKernel(object):\n",
        "    '''\n",
        "    variational monte carlo kernel.\n",
        "\n",
        "    Attributes:\n",
        "        energy_loc (func): local energy <x|H|\\psi>/<x|\\psi>.\n",
        "        ansatz (Module): torch neural network.\n",
        "    '''\n",
        "    def __init__(self, energy_loc, ansatz):\n",
        "        self.ansatz = ansatz\n",
        "        self.energy_loc = energy_loc\n",
        "\n",
        "    def prob(self, config):\n",
        "        '''\n",
        "        probability of configuration.\n",
        "\n",
        "        Args:\n",
        "            config (1darray): the bit string as a configuration.\n",
        "\n",
        "        Returns:\n",
        "            number: probability |<config|psi>|^2.\n",
        "        '''\n",
        "        return abs(self.ansatz.psi(torch.from_numpy(config)).data[0])**2\n",
        "\n",
        "    def local_measure(self, config):\n",
        "        '''\n",
        "        get local quantities energy_loc, grad_loc.\n",
        "\n",
        "        Args:\n",
        "            config (1darray): the bit string as a configuration.\n",
        "\n",
        "        Returns:\n",
        "            number, list: local energy and local gradients for variables.\n",
        "        '''\n",
        "        psi_loc = self.ansatz.psi(torch.from_numpy(config))\n",
        "\n",
        "        # get gradients {d/dW}_{loc}\n",
        "        self.ansatz.zero_grad()\n",
        "        psi_loc.backward()\n",
        "        grad_loc = [p.grad.data/psi_loc.data[0] for p in self.ansatz.parameters()]\n",
        "\n",
        "        # E_{loc}\n",
        "        eloc = self.energy_loc(config, lambda x: self.ansatz.psi(torch.from_numpy(x)).data, psi_loc.data)[0]\n",
        "        return eloc, grad_loc\n",
        "\n",
        "    @staticmethod\n",
        "    def propose_config(old_config, prob_flip=0.05):\n",
        "        '''\n",
        "        flip two positions as suggested spin flips.\n",
        "\n",
        "        Args:\n",
        "            old_config (1darray): spin configuration, which is a [-1,1] string.\n",
        "            prob_flip (float): the probability to flip all spins, to make VMC more statble in Heisenberg model.\n",
        "\n",
        "        Returns:\n",
        "            1darray: new spin configuration.\n",
        "        '''\n",
        "        # take ~ 5% probability to flip all spin, can making VMC sample better in Heisenberg model\n",
        "        if np.random.random() < prob_flip:\n",
        "            return -old_config\n",
        "\n",
        "        num_spin = len(old_config)\n",
        "        upmask = old_config == 1\n",
        "        flips = np.random.randint(0, num_spin // 2, 2)\n",
        "        iflip0 = np.where(upmask)[0][flips[0]]\n",
        "        iflip1 = np.where(~upmask)[0][flips[1]]\n",
        "\n",
        "        config = old_config.copy()\n",
        "        config[iflip0] = -1\n",
        "        config[iflip1] = 1\n",
        "        return config"
      ],
      "execution_count": 0,
      "outputs": []
    },
    {
      "metadata": {
        "id": "VaEcgJmtVHdB",
        "colab_type": "text"
      },
      "cell_type": "markdown",
      "source": [
        "## Wave function ansatz\n",
        "Comparing with the model defined in last example, we make serveral adaptions here\n",
        "* using {-1, 1} valued nodes instead of {0, 1} valued nodes.\n",
        "* use probability function of visual nodes directly, $p(v)\\sim e^{x^T a}\\prod\\limits_i2\\cosh(W_ix+b_i)$."
      ]
    },
    {
      "metadata": {
        "id": "g_6uhS8x7fdH",
        "colab_type": "code",
        "colab": {
          "autoexec": {
            "startup": false,
            "wait_interval": 0
          }
        }
      },
      "cell_type": "code",
      "source": [
        "class RBM(nn.Module):\n",
        "    '''\n",
        "    Restricted Boltzmann Machine\n",
        "\n",
        "    Args:\n",
        "        num_visible (int): number of visible nodes.\n",
        "        num_hidden (int): number of hidden nodes.\n",
        "\n",
        "    Attributes:\n",
        "        W (2darray): weights.\n",
        "        v_bias (1darray): bias for visible layer.\n",
        "        h_bias (1darray): bias for hidden layer.\n",
        "    '''\n",
        "\n",
        "    def __init__(self, num_visible, num_hidden):\n",
        "        super(RBM, self).__init__()\n",
        "        self.W = nn.Parameter(torch.randn(num_hidden, num_visible).double() * 1e-1)\n",
        "        self.v_bias = nn.Parameter(torch.zeros(num_visible).double())\n",
        "        self.h_bias = nn.Parameter(torch.randn(num_hidden).double() * 1e-1)\n",
        "        self.num_visible = num_visible\n",
        "        self.num_hidden = num_hidden\n",
        "        \n",
        "    def psi(self, v):\n",
        "        '''\n",
        "        probability for visible nodes, visible/hidden nodes here take value in {-1, 1}.\n",
        "\n",
        "        Args:\n",
        "            v (1darray): visible input.\n",
        "\n",
        "        Return:\n",
        "            float: the probability of v.\n",
        "        '''\n",
        "        v = Variable(v.double())\n",
        "        if self.W.is_cuda: v = v.cuda()\n",
        "        res = (2 * (self.W.mv(v) + self.h_bias).cosh()).prod() * (self.v_bias.dot(v)).exp()\n",
        "        return res"
      ],
      "execution_count": 0,
      "outputs": []
    },
    {
      "metadata": {
        "id": "7_O7XUu_6AVp",
        "colab_type": "text"
      },
      "cell_type": "markdown",
      "source": [
        "## Hamiltonian\n",
        "Here, we use the Heisenberg model with rotated basis\n",
        "$$H=\\sum\\limits_i J_z S_i^zS_{i+1}^z-\\frac{J_{xy}}{2}(S^+_{i}S^-_{i+1}+S^-_{i}S^+_{i+1})$$\n",
        "Comparing with traditional Heisenberg model, we performed transformation $S^{x,y}_i=-S^{x,y}_i,i\\in \\rm odd$, intended to make the ground state wave function always positive.\n",
        "\n",
        "Instead of defining the hamiltonian directlt, we define a function to calculate $E_{\\rm loc}$"
      ]
    },
    {
      "metadata": {
        "id": "7U5HEs2m6AVq",
        "colab_type": "code",
        "colab": {
          "autoexec": {
            "startup": false,
            "wait_interval": 0
          }
        }
      },
      "cell_type": "code",
      "source": [
        "def heisenberg_loc(config, psi_func, psi_loc, J=1.):\n",
        "    '''\n",
        "    local energy for 1D Periodic Heisenberg chain.\n",
        "\n",
        "    Args:\n",
        "        config (1darray): bit string as spin configuration.\n",
        "        psi_func (func): wave function.\n",
        "        psi_loc (number): wave function projected on configuration <config|psi>.\n",
        "        J (float): coupling strengh. Here, J = Jxy = Jz.\n",
        "\n",
        "    Returns:\n",
        "        number: local energy.\n",
        "    '''\n",
        "    # get weights and flips after applying hamiltonian \\sum_i w_i|x_i> = H|x>\n",
        "    nsite = len(config)\n",
        "    wl, flips = [], []\n",
        "    # J*SzSz terms.\n",
        "    nn_par = np.roll(config, -1) * config\n",
        "    wl.append(J / 4. * (nn_par).sum(axis=-1).item())\n",
        "    flips.append(np.array([], dtype='int64'))\n",
        "\n",
        "    # J*SxSx and J*SySy terms.\n",
        "    mask = nn_par != 1\n",
        "    i = np.where(mask)[0]\n",
        "    j = (i + 1) % nsite\n",
        "    wl += [-J / 2.] * len(i)\n",
        "    flips.extend(zip(i, j))\n",
        "\n",
        "    # calculate local energy <\\psi|H|x>/<\\psi|x>\n",
        "    acc = 0.\n",
        "    for wi, flip in zip(wl, flips):\n",
        "        config_i = config.copy()\n",
        "        config_i[list(flip)] *= -1\n",
        "        eng_i = wi * (psi_func(config_i) / psi_loc)\n",
        "        acc += eng_i\n",
        "    return acc"
      ],
      "execution_count": 0,
      "outputs": []
    },
    {
      "metadata": {
        "id": "rB2orpQedo1c",
        "colab_type": "text"
      },
      "cell_type": "markdown",
      "source": [
        "## The training"
      ]
    },
    {
      "metadata": {
        "id": "KMzFhYgc6AVc",
        "colab_type": "code",
        "colab": {
          "autoexec": {
            "startup": false,
            "wait_interval": 0
          }
        }
      },
      "cell_type": "code",
      "source": [
        "def train(model, learning_rate, use_cuda):\n",
        "    '''\n",
        "    train a model.\n",
        "\n",
        "    Args:\n",
        "        model (obj): a model that meet VMC model definition.\n",
        "        learning_rate (float): the learning rate for SGD.\n",
        "    '''\n",
        "    initial_config = np.array([-1, 1] * (model.ansatz.num_visible // 2))\n",
        "    if use_cuda:\n",
        "        model.ansatz.cuda()\n",
        "\n",
        "    while True:\n",
        "        # get expectation values for energy, gradient and their product,\n",
        "        # as well as the precision of energy.        \n",
        "        sample_list = vmc_sample(model, initial_config, num_bath=200, num_sample=8000)\n",
        "        energy, grad, energy_grad, precision = vmc_measure(model.local_measure, sample_list, num_spin)\n",
        "\n",
        "        # update variables using steepest gradient descent\n",
        "        g_list = [eg - energy * g for eg, g in zip(energy_grad, grad)]\n",
        "        for var, g in zip(model.ansatz.parameters(), g_list):\n",
        "            delta = learning_rate * g\n",
        "            var.data -= delta\n",
        "        yield energy, precision"
      ],
      "execution_count": 0,
      "outputs": []
    },
    {
      "metadata": {
        "id": "e24315mq6AVv",
        "colab_type": "text"
      },
      "cell_type": "markdown",
      "source": [
        "### Start training\n",
        "We will see GPU is not better than CPU in this case. There are mainly two factors causing this\n",
        "* the scale of vectorized operation is not large enough\n",
        "* freqent data transfer between CPU and GPU can become a bottleneck."
      ]
    },
    {
      "metadata": {
        "id": "BEpsTZ5N6AVx",
        "colab_type": "code",
        "colab": {
          "autoexec": {
            "startup": false,
            "wait_interval": 0
          },
          "output_extras": [
            {
              "item_id": 10
            },
            {
              "item_id": 11
            },
            {
              "item_id": 21
            },
            {
              "item_id": 22
            },
            {
              "item_id": 32
            },
            {
              "item_id": 33
            },
            {
              "item_id": 43
            },
            {
              "item_id": 44
            },
            {
              "item_id": 54
            },
            {
              "item_id": 55
            },
            {
              "item_id": 65
            },
            {
              "item_id": 66
            },
            {
              "item_id": 76
            },
            {
              "item_id": 77
            },
            {
              "item_id": 87
            },
            {
              "item_id": 88
            },
            {
              "item_id": 98
            },
            {
              "item_id": 99
            },
            {
              "item_id": 109
            },
            {
              "item_id": 110
            },
            {
              "item_id": 111
            }
          ],
          "base_uri": "https://localhost:8080/",
          "height": 6052
        },
        "outputId": "0e05f2d2-6a93-4f07-a122-28075d31d8a3",
        "executionInfo": {
          "status": "ok",
          "timestamp": 1519170187046,
          "user_tz": -60,
          "elapsed": 287156,
          "user": {
            "displayName": "刘金国",
            "photoUrl": "//lh3.googleusercontent.com/-lDAT81T3HSE/AAAAAAAAAAI/AAAAAAAAAgw/eH3JEob7M1Y/s50-c-k-no/photo.jpg",
            "userId": "116824001998056121289"
          }
        }
      },
      "cell_type": "code",
      "source": [
        "%matplotlib inline\n",
        "import time\n",
        "import matplotlib.pyplot as plt\n",
        "\n",
        "# set random number seed\n",
        "use_cuda = False\n",
        "seed = 10086\n",
        "torch.manual_seed(seed)\n",
        "if use_cuda: torch.cuda.manual_seed_all(seed)\n",
        "np.random.seed(seed)\n",
        "max_iter = 100\n",
        "num_spin = 8\n",
        "num_hidden = 16\n",
        "E_exact = -3.65109341\n",
        "\n",
        "# visualize the loss history\n",
        "energy_list, precision_list = [], []\n",
        "def _update_curve(energy, precision):\n",
        "    energy_list.append(energy)\n",
        "    precision_list.append(precision)\n",
        "    if len(energy_list)%10 == 0:\n",
        "        plt.errorbar(np.arange(1, len(energy_list) + 1), energy_list, yerr=precision_list, capsize=3)\n",
        "        # dashed line for exact energy\n",
        "        plt.axhline(E_exact, ls='--')\n",
        "        plt.show()\n",
        "\n",
        "rbm = RBM(num_spin, num_hidden)\n",
        "model = VMCKernel(heisenberg_loc, ansatz=rbm)\n",
        "\n",
        "t0 = time.time()\n",
        "for i, (energy, precision) in enumerate(train(model, learning_rate = 0.1, use_cuda = use_cuda)):\n",
        "    t1 = time.time()\n",
        "    print('Step %d, dE/|E| = %.4f, elapse = %.4f' % (i, -(energy - E_exact)/E_exact, t1-t0))\n",
        "    _update_curve(energy, precision)\n",
        "    t0 = time.time()\n",
        "\n",
        "    # stop condition\n",
        "    if i >= max_iter:\n",
        "        break"
      ],
      "execution_count": 32,
      "outputs": [
        {
          "output_type": "stream",
          "text": [
            "Binning Statistics: Energy = -2.6167 +- 0.0396, Auto correlation Time = 0.3829\n",
            "Step 0, dE/|E| = 0.2833, elapse = 2.8448\n",
            "Binning Statistics: Energy = -2.6833 +- 0.0418, Auto correlation Time = 0.4617\n",
            "Step 1, dE/|E| = 0.2651, elapse = 2.8340\n",
            "Binning Statistics: Energy = -2.7252 +- 0.0433, Auto correlation Time = 0.5240\n",
            "Step 2, dE/|E| = 0.2536, elapse = 2.8353\n",
            "Binning Statistics: Energy = -2.7277 +- 0.0375, Auto correlation Time = 0.4249\n",
            "Step 3, dE/|E| = 0.2529, elapse = 2.8072\n",
            "Binning Statistics: Energy = -2.7046 +- 0.0397, Auto correlation Time = 0.5204\n",
            "Step 4, dE/|E| = 0.2592, elapse = 2.8732\n",
            "Binning Statistics: Energy = -2.8293 +- 0.0368, Auto correlation Time = 0.4797\n",
            "Step 5, dE/|E| = 0.2251, elapse = 2.8081\n",
            "Binning Statistics: Energy = -2.7342 +- 0.0301, Auto correlation Time = 0.3630\n",
            "Step 6, dE/|E| = 0.2511, elapse = 2.7720\n",
            "Binning Statistics: Energy = -2.8613 +- 0.0329, Auto correlation Time = 0.4558\n",
            "Step 7, dE/|E| = 0.2163, elapse = 2.8127\n",
            "Binning Statistics: Energy = -2.8516 +- 0.0318, Auto correlation Time = 0.4443\n",
            "Step 8, dE/|E| = 0.2190, elapse = 2.7825\n",
            "Binning Statistics: Energy = -2.9007 +- 0.0315, Auto correlation Time = 0.4504\n",
            "Step 9, dE/|E| = 0.2055, elapse = 2.8772\n"
          ],
          "name": "stdout"
        },
        {
          "output_type": "display_data",
          "data": {
            "image/png": "[encoded data removed]",
            "text/plain": [
              "<matplotlib.figure.Figure at 0x7feb17906cf8>"
            ]
          },
          "metadata": {
            "tags": []
          }
        },
        {
          "output_type": "stream",
          "text": [
            "Binning Statistics: Energy = -2.8981 +- 0.0334, Auto correlation Time = 0.5229\n",
            "Step 10, dE/|E| = 0.2062, elapse = 2.8595\n",
            "Binning Statistics: Energy = -2.9901 +- 0.0311, Auto correlation Time = 0.5163\n",
            "Step 11, dE/|E| = 0.1810, elapse = 2.8079\n",
            "Binning Statistics: Energy = -2.9916 +- 0.0327, Auto correlation Time = 0.5530\n",
            "Step 12, dE/|E| = 0.1806, elapse = 2.7827\n",
            "Binning Statistics: Energy = -3.0688 +- 0.0292, Auto correlation Time = 0.4507\n",
            "Step 13, dE/|E| = 0.1595, elapse = 2.8717\n",
            "Binning Statistics: Energy = -3.0617 +- 0.0305, Auto correlation Time = 0.4860\n",
            "Step 14, dE/|E| = 0.1614, elapse = 2.8932\n",
            "Binning Statistics: Energy = -3.0865 +- 0.0300, Auto correlation Time = 0.5204\n",
            "Step 15, dE/|E| = 0.1546, elapse = 2.9882\n",
            "Binning Statistics: Energy = -3.0861 +- 0.0224, Auto correlation Time = 0.3123\n",
            "Step 16, dE/|E| = 0.1548, elapse = 2.9153\n",
            "Binning Statistics: Energy = -3.1325 +- 0.0305, Auto correlation Time = 0.5217\n",
            "Step 17, dE/|E| = 0.1420, elapse = 2.7924\n",
            "Binning Statistics: Energy = -3.1962 +- 0.0279, Auto correlation Time = 0.4306\n",
            "Step 18, dE/|E| = 0.1246, elapse = 2.8191\n",
            "Binning Statistics: Energy = -3.1487 +- 0.0289, Auto correlation Time = 0.4724\n",
            "Step 19, dE/|E| = 0.1376, elapse = 2.7695\n"
          ],
          "name": "stdout"
        },
        {
          "output_type": "display_data",
          "data": {
            "image/png": "[encoded data removed]",
            "text/plain": [
              "<matplotlib.figure.Figure at 0x7feb1a690b70>"
            ]
          },
          "metadata": {
            "tags": []
          }
        },
        {
          "output_type": "stream",
          "text": [
            "Binning Statistics: Energy = -3.1554 +- 0.0276, Auto correlation Time = 0.5032\n",
            "Step 20, dE/|E| = 0.1358, elapse = 2.8457\n",
            "Binning Statistics: Energy = -3.1462 +- 0.0266, Auto correlation Time = 0.4761\n",
            "Step 21, dE/|E| = 0.1383, elapse = 2.8086\n",
            "Binning Statistics: Energy = -3.1772 +- 0.0265, Auto correlation Time = 0.4905\n",
            "Step 22, dE/|E| = 0.1298, elapse = 2.8141\n",
            "Binning Statistics: Energy = -3.2392 +- 0.0217, Auto correlation Time = 0.3117\n",
            "Step 23, dE/|E| = 0.1128, elapse = 2.7909\n",
            "Binning Statistics: Energy = -3.2329 +- 0.0267, Auto correlation Time = 0.5480\n",
            "Step 24, dE/|E| = 0.1145, elapse = 2.8038\n",
            "Binning Statistics: Energy = -3.2292 +- 0.0227, Auto correlation Time = 0.4536\n",
            "Step 25, dE/|E| = 0.1156, elapse = 2.7819\n",
            "Binning Statistics: Energy = -3.2650 +- 0.0209, Auto correlation Time = 0.3943\n",
            "Step 26, dE/|E| = 0.1058, elapse = 2.8489\n",
            "Binning Statistics: Energy = -3.2713 +- 0.0250, Auto correlation Time = 0.6313\n",
            "Step 27, dE/|E| = 0.1040, elapse = 2.8213\n",
            "Binning Statistics: Energy = -3.3033 +- 0.0186, Auto correlation Time = 0.4070\n",
            "Step 28, dE/|E| = 0.0953, elapse = 2.7891\n",
            "Binning Statistics: Energy = -3.2667 +- 0.0221, Auto correlation Time = 0.5387\n",
            "Step 29, dE/|E| = 0.1053, elapse = 2.7980\n"
          ],
          "name": "stdout"
        },
        {
          "output_type": "display_data",
          "data": {
            "image/png": "[encoded data removed]",
            "text/plain": [
              "<matplotlib.figure.Figure at 0x7feb1a64fe80>"
            ]
          },
          "metadata": {
            "tags": []
          }
        },
        {
          "output_type": "stream",
          "text": [
            "Binning Statistics: Energy = -3.2723 +- 0.0224, Auto correlation Time = 0.5670\n",
            "Step 30, dE/|E| = 0.1037, elapse = 2.8492\n",
            "Binning Statistics: Energy = -3.3132 +- 0.0202, Auto correlation Time = 0.5288\n",
            "Step 31, dE/|E| = 0.0925, elapse = 2.7969\n",
            "Binning Statistics: Energy = -3.3094 +- 0.0203, Auto correlation Time = 0.6100\n",
            "Step 32, dE/|E| = 0.0936, elapse = 2.7456\n",
            "Binning Statistics: Energy = -3.2999 +- 0.0194, Auto correlation Time = 0.6291\n",
            "Step 33, dE/|E| = 0.0962, elapse = 2.7862\n",
            "Binning Statistics: Energy = -3.3216 +- 0.0161, Auto correlation Time = 0.4356\n",
            "Step 34, dE/|E| = 0.0902, elapse = 2.7511\n",
            "Binning Statistics: Energy = -3.3375 +- 0.0189, Auto correlation Time = 0.7100\n",
            "Step 35, dE/|E| = 0.0859, elapse = 2.7937\n",
            "Binning Statistics: Energy = -3.3523 +- 0.0120, Auto correlation Time = 0.3221\n",
            "Step 36, dE/|E| = 0.0818, elapse = 2.7741\n",
            "Binning Statistics: Energy = -3.3598 +- 0.0144, Auto correlation Time = 0.4669\n",
            "Step 37, dE/|E| = 0.0798, elapse = 2.7876\n",
            "Binning Statistics: Energy = -3.3874 +- 0.0147, Auto correlation Time = 0.4838\n",
            "Step 38, dE/|E| = 0.0722, elapse = 2.7668\n",
            "Binning Statistics: Energy = -3.3859 +- 0.0117, Auto correlation Time = 0.3867\n",
            "Step 39, dE/|E| = 0.0726, elapse = 2.7736\n"
          ],
          "name": "stdout"
        },
        {
          "output_type": "display_data",
          "data": {
            "image/png": "[encoded data removed]",
            "text/plain": [
              "<matplotlib.figure.Figure at 0x7feb17ab5208>"
            ]
          },
          "metadata": {
            "tags": []
          }
        },
        {
          "output_type": "stream",
          "text": [
            "Binning Statistics: Energy = -3.4041 +- 0.0122, Auto correlation Time = 0.4317\n",
            "Step 40, dE/|E| = 0.0677, elapse = 2.8311\n",
            "Binning Statistics: Energy = -3.4153 +- 0.0125, Auto correlation Time = 0.4948\n",
            "Step 41, dE/|E| = 0.0646, elapse = 2.7729\n",
            "Binning Statistics: Energy = -3.4582 +- 0.0110, Auto correlation Time = 0.3939\n",
            "Step 42, dE/|E| = 0.0528, elapse = 2.8065\n",
            "Binning Statistics: Energy = -3.4080 +- 0.0097, Auto correlation Time = 0.3460\n",
            "Step 43, dE/|E| = 0.0666, elapse = 2.7714\n",
            "Binning Statistics: Energy = -3.4292 +- 0.0105, Auto correlation Time = 0.4567\n",
            "Step 44, dE/|E| = 0.0608, elapse = 2.8522\n",
            "Binning Statistics: Energy = -3.4712 +- 0.0110, Auto correlation Time = 0.5589\n",
            "Step 45, dE/|E| = 0.0493, elapse = 2.8067\n",
            "Binning Statistics: Energy = -3.4564 +- 0.0111, Auto correlation Time = 0.5253\n",
            "Step 46, dE/|E| = 0.0533, elapse = 2.7988\n",
            "Binning Statistics: Energy = -3.4727 +- 0.0121, Auto correlation Time = 0.6567\n",
            "Step 47, dE/|E| = 0.0489, elapse = 2.7679\n",
            "Binning Statistics: Energy = -3.4855 +- 0.0095, Auto correlation Time = 0.4846\n",
            "Step 48, dE/|E| = 0.0454, elapse = 2.7767\n",
            "Binning Statistics: Energy = -3.4806 +- 0.0079, Auto correlation Time = 0.3544\n",
            "Step 49, dE/|E| = 0.0467, elapse = 2.8046\n"
          ],
          "name": "stdout"
        },
        {
          "output_type": "display_data",
          "data": {
            "image/png": "[encoded data removed]",
            "text/plain": [
              "<matplotlib.figure.Figure at 0x7feb1a5e7208>"
            ]
          },
          "metadata": {
            "tags": []
          }
        },
        {
          "output_type": "stream",
          "text": [
            "Binning Statistics: Energy = -3.4937 +- 0.0086, Auto correlation Time = 0.4338\n",
            "Step 50, dE/|E| = 0.0431, elapse = 2.8324\n",
            "Binning Statistics: Energy = -3.4831 +- 0.0093, Auto correlation Time = 0.5811\n",
            "Step 51, dE/|E| = 0.0460, elapse = 2.7985\n",
            "Binning Statistics: Energy = -3.5084 +- 0.0101, Auto correlation Time = 0.7029\n",
            "Step 52, dE/|E| = 0.0391, elapse = 2.7828\n",
            "Binning Statistics: Energy = -3.5069 +- 0.0076, Auto correlation Time = 0.4186\n",
            "Step 53, dE/|E| = 0.0395, elapse = 2.7953\n",
            "Binning Statistics: Energy = -3.5131 +- 0.0083, Auto correlation Time = 0.5033\n",
            "Step 54, dE/|E| = 0.0378, elapse = 2.7955\n",
            "Binning Statistics: Energy = -3.5129 +- 0.0075, Auto correlation Time = 0.4117\n",
            "Step 55, dE/|E| = 0.0379, elapse = 2.8099\n",
            "Binning Statistics: Energy = -3.5149 +- 0.0072, Auto correlation Time = 0.3751\n",
            "Step 56, dE/|E| = 0.0373, elapse = 2.8286\n",
            "Binning Statistics: Energy = -3.5244 +- 0.0081, Auto correlation Time = 0.4912\n",
            "Step 57, dE/|E| = 0.0347, elapse = 2.8197\n",
            "Binning Statistics: Energy = -3.5183 +- 0.0071, Auto correlation Time = 0.4212\n",
            "Step 58, dE/|E| = 0.0364, elapse = 2.8204\n",
            "Binning Statistics: Energy = -3.5514 +- 0.0068, Auto correlation Time = 0.3785\n",
            "Step 59, dE/|E| = 0.0273, elapse = 2.8009\n"
          ],
          "name": "stdout"
        },
        {
          "output_type": "display_data",
          "data": {
            "image/png": "[encoded data removed]",
            "text/plain": [
              "<matplotlib.figure.Figure at 0x7feb1a4b9198>"
            ]
          },
          "metadata": {
            "tags": []
          }
        },
        {
          "output_type": "stream",
          "text": [
            "Binning Statistics: Energy = -3.5457 +- 0.0093, Auto correlation Time = 0.6373\n",
            "Step 60, dE/|E| = 0.0289, elapse = 2.8398\n",
            "Binning Statistics: Energy = -3.5364 +- 0.0085, Auto correlation Time = 0.5706\n",
            "Step 61, dE/|E| = 0.0314, elapse = 2.8157\n",
            "Binning Statistics: Energy = -3.5486 +- 0.0072, Auto correlation Time = 0.4360\n",
            "Step 62, dE/|E| = 0.0281, elapse = 2.7567\n",
            "Binning Statistics: Energy = -3.5568 +- 0.0081, Auto correlation Time = 0.6049\n",
            "Step 63, dE/|E| = 0.0258, elapse = 2.8098\n",
            "Binning Statistics: Energy = -3.5520 +- 0.0088, Auto correlation Time = 0.6357\n",
            "Step 64, dE/|E| = 0.0271, elapse = 2.7626\n",
            "Binning Statistics: Energy = -3.5701 +- 0.0071, Auto correlation Time = 0.4511\n",
            "Step 65, dE/|E| = 0.0222, elapse = 2.7891\n",
            "Binning Statistics: Energy = -3.5701 +- 0.0063, Auto correlation Time = 0.3931\n",
            "Step 66, dE/|E| = 0.0222, elapse = 2.7796\n",
            "Binning Statistics: Energy = -3.5587 +- 0.0077, Auto correlation Time = 0.5952\n",
            "Step 67, dE/|E| = 0.0253, elapse = 2.8694\n",
            "Binning Statistics: Energy = -3.5404 +- 0.0080, Auto correlation Time = 0.6121\n",
            "Step 68, dE/|E| = 0.0303, elapse = 2.8644\n",
            "Binning Statistics: Energy = -3.5697 +- 0.0066, Auto correlation Time = 0.4151\n",
            "Step 69, dE/|E| = 0.0223, elapse = 2.8185\n"
          ],
          "name": "stdout"
        },
        {
          "output_type": "display_data",
          "data": {
            "image/png": "[encoded data removed]",
            "text/plain": [
              "<matplotlib.figure.Figure at 0x7feb1a53ecc0>"
            ]
          },
          "metadata": {
            "tags": []
          }
        },
        {
          "output_type": "stream",
          "text": [
            "Binning Statistics: Energy = -3.5785 +- 0.0060, Auto correlation Time = 0.3262\n",
            "Step 70, dE/|E| = 0.0199, elapse = 2.8962\n",
            "Binning Statistics: Energy = -3.5637 +- 0.0065, Auto correlation Time = 0.4404\n",
            "Step 71, dE/|E| = 0.0239, elapse = 2.7670\n",
            "Binning Statistics: Energy = -3.5708 +- 0.0066, Auto correlation Time = 0.4262\n",
            "Step 72, dE/|E| = 0.0220, elapse = 2.8009\n",
            "Binning Statistics: Energy = -3.5692 +- 0.0070, Auto correlation Time = 0.4973\n",
            "Step 73, dE/|E| = 0.0224, elapse = 2.8023\n",
            "Binning Statistics: Energy = -3.5715 +- 0.0057, Auto correlation Time = 0.3298\n",
            "Step 74, dE/|E| = 0.0218, elapse = 2.7596\n",
            "Binning Statistics: Energy = -3.5823 +- 0.0068, Auto correlation Time = 0.4971\n",
            "Step 75, dE/|E| = 0.0188, elapse = 2.7823\n",
            "Binning Statistics: Energy = -3.5722 +- 0.0062, Auto correlation Time = 0.4373\n",
            "Step 76, dE/|E| = 0.0216, elapse = 2.8110\n",
            "Binning Statistics: Energy = -3.5715 +- 0.0065, Auto correlation Time = 0.4597\n",
            "Step 77, dE/|E| = 0.0218, elapse = 2.7847\n",
            "Binning Statistics: Energy = -3.5714 +- 0.0067, Auto correlation Time = 0.4371\n",
            "Step 78, dE/|E| = 0.0218, elapse = 2.8127\n",
            "Binning Statistics: Energy = -3.5724 +- 0.0073, Auto correlation Time = 0.5494\n",
            "Step 79, dE/|E| = 0.0215, elapse = 2.7945\n"
          ],
          "name": "stdout"
        },
        {
          "output_type": "display_data",
          "data": {
            "image/png": "[encoded data removed]",
            "text/plain": [
              "<matplotlib.figure.Figure at 0x7feb1a6900f0>"
            ]
          },
          "metadata": {
            "tags": []
          }
        },
        {
          "output_type": "stream",
          "text": [
            "Binning Statistics: Energy = -3.5817 +- 0.0065, Auto correlation Time = 0.4754\n",
            "Step 80, dE/|E| = 0.0190, elapse = 2.8283\n",
            "Binning Statistics: Energy = -3.5747 +- 0.0066, Auto correlation Time = 0.5097\n",
            "Step 81, dE/|E| = 0.0209, elapse = 2.8052\n",
            "Binning Statistics: Energy = -3.5716 +- 0.0064, Auto correlation Time = 0.4711\n",
            "Step 82, dE/|E| = 0.0218, elapse = 2.8108\n",
            "Binning Statistics: Energy = -3.5701 +- 0.0056, Auto correlation Time = 0.3502\n",
            "Step 83, dE/|E| = 0.0222, elapse = 2.8385\n",
            "Binning Statistics: Energy = -3.5734 +- 0.0080, Auto correlation Time = 0.7040\n",
            "Step 84, dE/|E| = 0.0213, elapse = 2.8412\n",
            "Binning Statistics: Energy = -3.5823 +- 0.0052, Auto correlation Time = 0.3083\n",
            "Step 85, dE/|E| = 0.0188, elapse = 2.8195\n",
            "Binning Statistics: Energy = -3.5803 +- 0.0066, Auto correlation Time = 0.4907\n",
            "Step 86, dE/|E| = 0.0194, elapse = 2.8092\n",
            "Binning Statistics: Energy = -3.5722 +- 0.0069, Auto correlation Time = 0.5179\n",
            "Step 87, dE/|E| = 0.0216, elapse = 2.8135\n",
            "Binning Statistics: Energy = -3.5866 +- 0.0071, Auto correlation Time = 0.5946\n",
            "Step 88, dE/|E| = 0.0177, elapse = 2.7783\n",
            "Binning Statistics: Energy = -3.5908 +- 0.0061, Auto correlation Time = 0.4274\n",
            "Step 89, dE/|E| = 0.0165, elapse = 2.7997\n"
          ],
          "name": "stdout"
        },
        {
          "output_type": "display_data",
          "data": {
            "image/png": "[encoded data removed]",
            "text/plain": [
              "<matplotlib.figure.Figure at 0x7feb1a445080>"
            ]
          },
          "metadata": {
            "tags": []
          }
        },
        {
          "output_type": "stream",
          "text": [
            "Binning Statistics: Energy = -3.5947 +- 0.0068, Auto correlation Time = 0.5059\n",
            "Step 90, dE/|E| = 0.0154, elapse = 2.8311\n",
            "Binning Statistics: Energy = -3.5923 +- 0.0066, Auto correlation Time = 0.5247\n",
            "Step 91, dE/|E| = 0.0161, elapse = 2.8066\n",
            "Binning Statistics: Energy = -3.5914 +- 0.0061, Auto correlation Time = 0.4312\n",
            "Step 92, dE/|E| = 0.0164, elapse = 2.8158\n",
            "Binning Statistics: Energy = -3.5816 +- 0.0077, Auto correlation Time = 0.6494\n",
            "Step 93, dE/|E| = 0.0190, elapse = 2.9245\n",
            "Binning Statistics: Energy = -3.5804 +- 0.0064, Auto correlation Time = 0.4793\n",
            "Step 94, dE/|E| = 0.0194, elapse = 2.9332\n",
            "Binning Statistics: Energy = -3.5748 +- 0.0068, Auto correlation Time = 0.5787\n",
            "Step 95, dE/|E| = 0.0209, elapse = 3.0115\n",
            "Binning Statistics: Energy = -3.5790 +- 0.0054, Auto correlation Time = 0.3881\n",
            "Step 96, dE/|E| = 0.0198, elapse = 2.8956\n",
            "Binning Statistics: Energy = -3.5905 +- 0.0064, Auto correlation Time = 0.4906\n",
            "Step 97, dE/|E| = 0.0166, elapse = 2.8466\n",
            "Binning Statistics: Energy = -3.5786 +- 0.0056, Auto correlation Time = 0.4569\n",
            "Step 98, dE/|E| = 0.0199, elapse = 2.8896\n",
            "Binning Statistics: Energy = -3.5893 +- 0.0061, Auto correlation Time = 0.4674\n",
            "Step 99, dE/|E| = 0.0169, elapse = 2.9141\n"
          ],
          "name": "stdout"
        },
        {
          "output_type": "display_data",
          "data": {
            "image/png": "[encoded data removed]",
            "text/plain": [
              "<matplotlib.figure.Figure at 0x7feb17827710>"
            ]
          },
          "metadata": {
            "tags": []
          }
        },
        {
          "output_type": "stream",
          "text": [
            "Binning Statistics: Energy = -3.5966 +- 0.0069, Auto correlation Time = 0.6739\n",
            "Step 100, dE/|E| = 0.0149, elapse = 2.9056\n"
          ],
          "name": "stdout"
        }
      ]
    },
    {
      "metadata": {
        "id": "t1F2-L3F1rBr",
        "colab_type": "text"
      },
      "cell_type": "markdown",
      "source": [
        "## Challenge\n",
        "J1-J2 model is an advanced version of Heisenberg model that takes 2nd nearest neighbor coupling terms into considerations. Its hamiltonian is \n",
        "\n",
        "$$H=J_1\\sum\\limits_i \\vec S_i\\cdot \\vec S_{i+1}+ J_2\\sum_i\\vec S_i\\cdot \\vec S_{i+2}$$\n",
        "\n",
        "The sign of its ground state wave functions $\\psi(x)=\\langle x|\\psi\\rangle$ can be either positive or negative. Since real valued RBM is not able to describe such a state.\n",
        "\n",
        "With the following local energy function, write your own ansatz to obtain its ground state.\n",
        "\n",
        "As a start point, you can try with 20 sites, $J_2=0.2$.\n",
        "Obtain the best precision as you can.\n",
        "\n",
        "Below is a table of DMRG results for benchmark, which is believe to be \"exact\" for 1D systems.\n",
        "\n",
        "| &nbsp;&nbsp;&nbsp;$J_2$ &nbsp;&nbsp;&nbsp;  | 20             | 30             | 40             | 100            |\n",
        "| -------------------- | -------------- | -------------- | -------------- | -------------- |\n",
        "| 0.                   | -8.90438652988&nbsp;&nbsp;&nbsp; | -13.3219630586&nbsp;&nbsp;&nbsp; | -17.7465227719&nbsp;&nbsp;&nbsp; | -44.3229467082&nbsp;&nbsp;&nbsp; |\n",
        "| 0.2                  | -8.20291625218 | -12.2770471706 | -16.3566615295 | -40.8572924302 |\n",
        "| 0.5                  | -7.5           | -11.25         | -15            | 37.5           |\n",
        "| 0.8                  | -8.46127240196 | -12.6588455544 | -16.8706800952 | -42.0700632095 |\n"
      ]
    },
    {
      "metadata": {
        "id": "QkR3KNCw1wFx",
        "colab_type": "code",
        "colab": {
          "autoexec": {
            "startup": false,
            "wait_interval": 0
          }
        }
      },
      "cell_type": "code",
      "source": [
        "def J1J2_loc(config, psi_func, psi_loc, J1, J1z, J2, J2z, periodic):\n",
        "    '''\n",
        "    local energy for 1D J1, J2 chain.\n",
        "\n",
        "    Args:\n",
        "        config (1darray): bit string as spin configuration.\n",
        "        psi_func (func): wave function.\n",
        "        psi_loc (number): wave function projected on configuration <config|psi>.\n",
        "        J1, J1z, J2, J2z (float): coupling strenghs for nearest neightbor, nearest neighbor z-direction, 2nd nearest neighbor and 2nd nearest neighbor in z-direction.\n",
        "        periodic (bool): boundary condition.\n",
        "\n",
        "    Returns:\n",
        "        number: local energy.\n",
        "    '''\n",
        "    nsite = len(config)\n",
        "    wl, flips = [], []\n",
        "    Js = [J1, J2]\n",
        "    Jzs = [J1z, J2z]\n",
        "    for INB, (J,Jz) in enumerate(zip(Js, Jzs)):\n",
        "        # J1(SzSz) terms.\n",
        "        nn_par = np.roll(config, -INB-1) * config\n",
        "        if not periodic:\n",
        "            nn_par = nn_par[:-INB-1]\n",
        "        wl.append(Jz / 4. * (nn_par).sum(axis=-1))\n",
        "        flips.append(np.array([], dtype='int64'))\n",
        "\n",
        "        # J1(SxSx) and J1(SySy) terms.\n",
        "        mask = nn_par != 1\n",
        "        i = np.where(mask)[0]\n",
        "        j = (i + INB+1) % nsite\n",
        "\n",
        "        wl += [J / 2.] * len(i)\n",
        "        flips.extend(zip(i, j))\n",
        "        \n",
        "    # calculate local energy <\\psi|H|x>/<\\psi|x>\n",
        "    acc = 0\n",
        "    for wi, flip in zip(wl, flips):\n",
        "        config_i = config.copy()\n",
        "        config_i[list(flip)] *= -1\n",
        "        eng_i = wi * psi_func(config_i) / psi_loc\n",
        "        acc += eng_i\n",
        "    return acc"
      ],
      "execution_count": 0,
      "outputs": []
    },
    {
      "metadata": {
        "id": "qRBaeQgTCgb9",
        "colab_type": "text"
      },
      "cell_type": "markdown",
      "source": [
        "## Hints\n",
        "* spliting phase and amplitude parts of a wave function is suggested in\n",
        "\n",
        "    `Cai, Zi, and Jinguo Liu. \"Approximating quantum many-body wave functions using artificial neural networks.\" Physical Review B 97.3 (2018): 035116.`\n",
        "* using **symmetries** like invariance under translation ,spin flip and inversion in your model to make training more stable.\n",
        "Ground states of J1-J2 models with different $J_2$ or $N$ lies in different symmetry blocks.\n",
        "* use stochastic reconfiguration or Adam as a better **optimization** method.\n",
        "* rewrite the part of code to get local energy using C/C++/Fortran for speed up.\n",
        "* use tensorflow or your own modules to support **complex values**.\n",
        "* for large scale 2D J1-J2 model, its ground state is an **open question yet**!"
      ]
    },
    {
      "metadata": {
        "id": "SKjnfSMq6AWf",
        "colab_type": "code",
        "colab": {
          "autoexec": {
            "startup": false,
            "wait_interval": 0
          }
        }
      },
      "cell_type": "code",
      "source": [
        ""
      ],
      "execution_count": 0,
      "outputs": []
    }
  ]
}