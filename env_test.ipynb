{
 "cells": [
  {
   "cell_type": "markdown",
   "metadata": {},
   "source": [
    "# Setup Tools For Machine Learning"
   ]
  },
  {
   "cell_type": "code",
   "execution_count": 6,
   "metadata": {
    "collapsed": true
   },
   "outputs": [],
   "source": [
    "has_nvidia_gpu = False"
   ]
  },
  {
   "cell_type": "code",
   "execution_count": 7,
   "metadata": {},
   "outputs": [
    {
     "name": "stdout",
     "output_type": "stream",
     "text": [
      "Requirement already satisfied: numpy in /home/leo/anaconda3/lib/python3.6/site-packages\n",
      "Requirement already satisfied: matplotlib in /home/leo/anaconda3/lib/python3.6/site-packages\n",
      "Requirement already satisfied: six>=1.10 in /home/leo/anaconda3/lib/python3.6/site-packages (from matplotlib)\n",
      "Requirement already satisfied: python-dateutil>=2.0 in /home/leo/anaconda3/lib/python3.6/site-packages (from matplotlib)\n",
      "Requirement already satisfied: pytz in /home/leo/anaconda3/lib/python3.6/site-packages (from matplotlib)\n",
      "Requirement already satisfied: cycler>=0.10 in /home/leo/anaconda3/lib/python3.6/site-packages (from matplotlib)\n",
      "Requirement already satisfied: pyparsing!=2.0.4,!=2.1.2,!=2.1.6,>=2.0.1 in /home/leo/anaconda3/lib/python3.6/site-packages (from matplotlib)\n",
      "b\n"
     ]
    }
   ],
   "source": [
    "!pip install numpy matplotlib\n",
    "if has_nvidia_gpu:\n",
    "    !pip install http://download.pytorch.org/whl/cu80/torch-0.3.0.post4-cp36-cp36m-linux_x86_64.whl\n",
    "else:\n",
    "    !pip install http://download.pytorch.org/whl/cpu/torch-0.3.0.post4-cp36-cp36m-linux_x86_64.whl \n",
    "!pip3 install torchvision"
   ]
  },
  {
   "cell_type": "markdown",
   "metadata": {},
   "source": [
    "## Test your environment"
   ]
  },
  {
   "cell_type": "code",
   "execution_count": null,
   "metadata": {
    "collapsed": true
   },
   "outputs": [],
   "source": [
    "import pytorch\n",
    "x = torch.Tensor(range(64)).view([8, 8])\n",
    "try:\n",
    "    x = x.cuda()\n",
    "    print('Pytorch with GPU support.')\n",
    "except:\n",
    "    print('Pytorch without GPU support.')\n",
    "    \n",
    "import matplotlib.pyplot as plt\n",
    "plt.imshow(x.cpu().numpy())\n",
    "plt.show()"
   ]
  }
 ],
 "metadata": {
  "kernelspec": {
   "display_name": "Python 3",
   "language": "python",
   "name": "python3"
  },
  "language_info": {
   "codemirror_mode": {
    "name": "ipython",
    "version": 3
   },
   "file_extension": ".py",
   "mimetype": "text/x-python",
   "name": "python",
   "nbconvert_exporter": "python",
   "pygments_lexer": "ipython3",
   "version": "3.6.1"
  }
 },
 "nbformat": 4,
 "nbformat_minor": 2
}
